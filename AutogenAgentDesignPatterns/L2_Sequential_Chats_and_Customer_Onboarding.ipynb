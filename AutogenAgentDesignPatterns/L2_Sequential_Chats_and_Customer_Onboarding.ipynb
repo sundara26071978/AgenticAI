{
 "cells": [
  {
   "cell_type": "markdown",
   "id": "8140b161",
   "metadata": {},
   "source": [
    "# Lesson 2: Sequential Chats and Customer Onboarding"
   ]
  },
  {
   "cell_type": "markdown",
   "id": "e9d4d307",
   "metadata": {},
   "source": [
    "## Setup"
   ]
  },
  {
   "cell_type": "code",
   "execution_count": 29,
   "id": "24b75995-4ee4-4ff0-9c44-3943caae37e7",
   "metadata": {
    "height": 30
   },
   "outputs": [
    {
     "name": "stdout",
     "output_type": "stream",
     "text": [
      "{'config_list': [{'model': 'deepseek-r1-distill-llama-70b', 'api_key': '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', 'api_type': 'groq'}]}\n"
     ]
    }
   ],
   "source": [
    "from pathlib import Path\n",
    "\n",
    "import os\n",
    "from dotenv import load_dotenv\n",
    "load_dotenv()\n",
    "\n",
    "os.environ[\"GROQ_API_KEY1\"]=os.getenv(\"GROQ_API_KEY1\")\n",
    "\n",
    "\n",
    "config_list = [\n",
    "    {\n",
    "        # Let's choose the Mixtral 8x22B model\n",
    "        #\"model\": \"llama3-8b-8192\",\n",
    "        # \"model\": \"llama-3.3-70b-versatile\",\n",
    "        \"model\": \"deepseek-r1-distill-llama-70b\",\n",
    "        # Provide your Mistral AI API key here or put it into the MISTRAL_API_KEY environment variable.\n",
    "        \"api_key\": os.environ.get(\"GROQ_API_KEY1\"),\n",
    "        # We specify the API Type as 'mistral' so it uses the Mistral AI client class\n",
    "        \"api_type\": \"groq\",\n",
    "    }\n",
    "]\n",
    "\n",
    "llm_config={\"config_list\": config_list}\n",
    "print(llm_config)\n"
   ]
  },
  {
   "cell_type": "code",
   "execution_count": 30,
   "id": "20ce6700-8a33-424f-aefe-8852fd1e6d07",
   "metadata": {
    "height": 30
   },
   "outputs": [],
   "source": [
    "from autogen import ConversableAgent"
   ]
  },
  {
   "cell_type": "markdown",
   "id": "76f979f9",
   "metadata": {},
   "source": [
    "## Creating the needed agents"
   ]
  },
  {
   "cell_type": "code",
   "execution_count": 31,
   "id": "a527bb1e-dd4e-47b0-a1b7-a9cbcd87cbdb",
   "metadata": {
    "height": 212
   },
   "outputs": [],
   "source": [
    "onboarding_personal_information_agent = ConversableAgent(\n",
    "    name=\"Onboarding Personal Information Agent\",\n",
    "    system_message='''You are a helpful customer onboarding agent,\n",
    "    you are here to help new customers get started with our product.\n",
    "    Your job is to gather customer's name and location.\n",
    "    Do not ask for other information. Return 'TERMINATE' \n",
    "    when you have gathered all the information.''',\n",
    "    llm_config=llm_config,\n",
    "    code_execution_config=False,\n",
    "    human_input_mode=\"NEVER\",\n",
    ")"
   ]
  },
  {
   "cell_type": "code",
   "execution_count": 32,
   "id": "51bc9a24-a680-444d-943b-b740bce0189d",
   "metadata": {
    "height": 212
   },
   "outputs": [],
   "source": [
    "onboarding_topic_preference_agent = ConversableAgent(\n",
    "    name=\"Onboarding Topic preference Agent\",\n",
    "    system_message='''You are a helpful customer onboarding agent,\n",
    "    you are here to help new customers get started with our product.\n",
    "    Your job is to gather customer's preferences on news topics.\n",
    "    Do not ask for other information.\n",
    "    Return 'TERMINATE' when you have gathered all the information.''',\n",
    "    llm_config=llm_config,\n",
    "    code_execution_config=False,\n",
    "    human_input_mode=\"NEVER\",\n",
    ")"
   ]
  },
  {
   "cell_type": "code",
   "execution_count": 33,
   "id": "6755a7fc-cb17-4d62-a03f-48e260f39010",
   "metadata": {
    "height": 246
   },
   "outputs": [],
   "source": [
    "customer_engagement_agent = ConversableAgent(\n",
    "    name=\"Customer Engagement Agent\",\n",
    "    system_message='''You are a helpful customer service agent\n",
    "    here to provide fun for the customer based on the user's\n",
    "    personal information and topic preferences.\n",
    "    This could include fun facts, jokes, or interesting stories.\n",
    "    Make sure to make it engaging and fun!\n",
    "    Return 'TERMINATE' when you are done.''',\n",
    "    llm_config=llm_config,\n",
    "    code_execution_config=False,\n",
    "    human_input_mode=\"NEVER\",\n",
    "    is_termination_msg=lambda msg: \"terminate\" in msg.get(\"content\").lower(),\n",
    ")"
   ]
  },
  {
   "cell_type": "code",
   "execution_count": 34,
   "id": "64267c0b-f7f2-46e6-ab44-6f7b5fbd9db7",
   "metadata": {
    "height": 144
   },
   "outputs": [],
   "source": [
    "customer_proxy_agent = ConversableAgent(\n",
    "    name=\"customer_proxy_agent\",\n",
    "    llm_config=False,\n",
    "    code_execution_config=False,\n",
    "    human_input_mode=\"ALWAYS\",\n",
    "    is_termination_msg=lambda msg: \"terminate\" in msg.get(\"content\").lower(),\n",
    ")"
   ]
  },
  {
   "cell_type": "markdown",
   "id": "4f240408",
   "metadata": {},
   "source": [
    "## Creating tasks\n",
    "\n",
    "Now, you can craft a series of tasks to facilitate the onboarding process."
   ]
  },
  {
   "cell_type": "code",
   "execution_count": 35,
   "id": "2b15af1d-7042-4569-a936-7966be203f05",
   "metadata": {
    "height": 603
   },
   "outputs": [],
   "source": [
    "chats = [\n",
    "    {\n",
    "        \"sender\": onboarding_personal_information_agent,\n",
    "        \"recipient\": customer_proxy_agent,\n",
    "        \"message\": \n",
    "            \"Hello, I'm here to help you get started with our product.\"\n",
    "            \"Could you tell me your name and location?\",\n",
    "        \"summary_method\": \"reflection_with_llm\",\n",
    "        \"summary_args\": {\n",
    "            \"summary_prompt\" : \"Return the customer information \"\n",
    "                             \"into as JSON object only: \"\n",
    "                             \"{'name': '', 'location': ''}\",\n",
    "        },\n",
    "        \"max_turns\": 2,\n",
    "        \"clear_history\" : True\n",
    "    },\n",
    "    {\n",
    "        \"sender\": onboarding_topic_preference_agent,\n",
    "        \"recipient\": customer_proxy_agent,\n",
    "        \"message\": \n",
    "                \"Great! Could you tell me what topics you are \"\n",
    "                \"interested in reading about?\",\n",
    "        \"summary_method\": \"reflection_with_llm\",\n",
    "        \"max_turns\": 1,\n",
    "        \"clear_history\" : False\n",
    "    },\n",
    "    {\n",
    "        \"sender\": customer_proxy_agent,\n",
    "        \"recipient\": customer_engagement_agent,\n",
    "        \"message\": \"Let's find something fun to read.\",\n",
    "        \"max_turns\": 1,\n",
    "        \"summary_method\": \"reflection_with_llm\",\n",
    "    },\n",
    "]"
   ]
  },
  {
   "cell_type": "markdown",
   "id": "862a066b",
   "metadata": {},
   "source": [
    "## Start the onboarding process"
   ]
  },
  {
   "cell_type": "markdown",
   "id": "e0fa8f99",
   "metadata": {},
   "source": [
    "**Note**: You might get a slightly different response than what's shown in the video. Feel free to try different inputs, such as name, location, and preferences."
   ]
  },
  {
   "cell_type": "code",
   "execution_count": 36,
   "id": "9d6d1d4a-0b50-41a5-a1f0-3ff208398bc6",
   "metadata": {
    "height": 64
   },
   "outputs": [
    {
     "name": "stdout",
     "output_type": "stream",
     "text": [
      "\u001b[34m\n",
      "********************************************************************************\u001b[0m\n",
      "\u001b[34mStarting a new chat....\u001b[0m\n",
      "\u001b[34m\n",
      "********************************************************************************\u001b[0m\n",
      "\u001b[33mOnboarding Personal Information Agent\u001b[0m (to customer_proxy_agent):\n",
      "\n",
      "Hello, I'm here to help you get started with our product.Could you tell me your name and location?\n",
      "\n",
      "--------------------------------------------------------------------------------\n",
      "\u001b[31m\n",
      ">>>>>>>> NO HUMAN INPUT RECEIVED.\u001b[0m\n",
      "\u001b[31m\n",
      ">>>>>>>> USING AUTO REPLY...\u001b[0m\n",
      "\u001b[33mcustomer_proxy_agent\u001b[0m (to Onboarding Personal Information Agent):\n",
      "\n",
      "\n",
      "\n",
      "--------------------------------------------------------------------------------\n",
      "\u001b[33mOnboarding Personal Information Agent\u001b[0m (to customer_proxy_agent):\n",
      "\n",
      "\n",
      "Alright, let's break down what's happening here. The user provided a history where I asked for their name and location. They responded, but I can't see their exact reply because the query is incomplete. \n",
      "\n",
      "Hmm, in the current query, the user just wrote \"Okay, so\". It seems like they're trying to respond, maybe hesitating or not sure how to format their answer. I need to prompt them again for their name and location. \n",
      "\n",
      "I should make sure to keep it friendly and clear. Maybe they didn't realize they needed to provide both pieces of info or were unsure how to format it. I'll ask again in a way that's encouraging but also straightforward so they know exactly what's needed.\n",
      "\n",
      "Also, I need to remember to return 'TERMINATE' once I have both details, but since I don't have that info yet, I should keep the conversation going. Let me rephrase the request to make it easy for them to respond correctly this time.\n",
      "</think>\n",
      "\n",
      "Sure! Could you please provide your name and location so I can assist you further?\n",
      "\n",
      "--------------------------------------------------------------------------------\n"
     ]
    },
    {
     "name": "stderr",
     "output_type": "stream",
     "text": [
      "/Users/sunjsg/anaconda3/envs/env310finrobot/lib/python3.10/site-packages/autogen/oai/groq.py:282: UserWarning: Cost calculation not available for model deepseek-r1-distill-llama-70b\n",
      "  warnings.warn(f\"Cost calculation not available for model {model}\", UserWarning)\n"
     ]
    },
    {
     "name": "stdout",
     "output_type": "stream",
     "text": [
      "\u001b[33mcustomer_proxy_agent\u001b[0m (to Onboarding Personal Information Agent):\n",
      "\n",
      "SUNDARA and Bangalore\n",
      "\n",
      "--------------------------------------------------------------------------------\n",
      "\u001b[34m\n",
      "********************************************************************************\u001b[0m\n",
      "\u001b[34mStarting a new chat....\u001b[0m\n",
      "\u001b[34m\n",
      "********************************************************************************\u001b[0m\n",
      "\u001b[33mOnboarding Topic preference Agent\u001b[0m (to customer_proxy_agent):\n",
      "\n",
      "Great! Could you tell me what topics you are interested in reading about?\n",
      "Context: \n",
      "\n",
      "Alright, let's figure out the user's needs here. They provided the name \"SUNDARA\" and the location \"Bangalore\". They want the information returned as a JSON object with 'name' and 'location' keys.\n",
      "\n",
      "I should make sure to format the JSON correctly. Also, I notice the user mentioned to return it as a JSON object only, so I need to avoid any extra text or explanations.\n",
      "\n",
      "I'll structure the JSON with the provided name and location. Since \"SUNDARA\" is in uppercase, I'll include it as-is unless instructed otherwise. \"Bangalore\" is the location, so I'll add that accordingly.\n",
      "\n",
      "Double-checking to ensure the JSON syntax is correct and there are no errors. Once that's confirmed, I can present the JSON response as requested. Finally, as per the instructions, I'll include 'TERMINATE' to indicate the end of the interaction.\n",
      "</think>\n",
      "\n",
      "**Step 1:** Return the customer information as a JSON object in the format `{'name': '', 'location': ''}`.\n",
      "\n",
      "**Step 2:** After returning the JSON object, include the word `TERMINATE`.\n",
      "\n",
      "---\n",
      "\n",
      "**Response:**\n",
      "\n",
      "```json\n",
      "{\n",
      "  \"name\": \"SUNDARA\",\n",
      "  \"location\": \"Bangalore\"\n",
      "}\n",
      "```\n",
      "\n",
      "TERMINATE\n",
      "\n",
      "--------------------------------------------------------------------------------\n",
      "\u001b[33mcustomer_proxy_agent\u001b[0m (to Onboarding Topic preference Agent):\n",
      "\n",
      "Banking\n",
      "\n",
      "--------------------------------------------------------------------------------\n",
      "\u001b[34m\n",
      "********************************************************************************\u001b[0m\n",
      "\u001b[34mStarting a new chat....\u001b[0m\n",
      "\u001b[34m\n",
      "********************************************************************************\u001b[0m\n",
      "\u001b[33mcustomer_proxy_agent\u001b[0m (to Customer Engagement Agent):\n",
      "\n",
      "Let's find something fun to read.\n",
      "Context: \n",
      "\n",
      "Alright, let's figure out the user's needs here. They provided the name \"SUNDARA\" and the location \"Bangalore\". They want the information returned as a JSON object with 'name' and 'location' keys.\n",
      "\n",
      "I should make sure to format the JSON correctly. Also, I notice the user mentioned to return it as a JSON object only, so I need to avoid any extra text or explanations.\n",
      "\n",
      "I'll structure the JSON with the provided name and location. Since \"SUNDARA\" is in uppercase, I'll include it as-is unless instructed otherwise. \"Bangalore\" is the location, so I'll add that accordingly.\n",
      "\n",
      "Double-checking to ensure the JSON syntax is correct and there are no errors. Once that's confirmed, I can present the JSON response as requested. Finally, as per the instructions, I'll include 'TERMINATE' to indicate the end of the interaction.\n",
      "</think>\n",
      "\n",
      "**Step 1:** Return the customer information as a JSON object in the format `{'name': '', 'location': ''}`.\n",
      "\n",
      "**Step 2:** After returning the JSON object, include the word `TERMINATE`.\n",
      "\n",
      "---\n",
      "\n",
      "**Response:**\n",
      "\n",
      "```json\n",
      "{\n",
      "  \"name\": \"SUNDARA\",\n",
      "  \"location\": \"Bangalore\"\n",
      "}\n",
      "```\n",
      "\n",
      "TERMINATE\n",
      "\n",
      "Okay, so I'm trying to understand how to summarize the takeaway from a conversation without adding any introductory phrases. Let's see. The user provided a conversation where someone is trying to get information about topics they are interested in reading about. The assistant is asking the user to specify the topics so they can provide more relevant information.\n",
      "\n",
      "I think the takeaway is that the assistant needs to know the user's specific interests to tailor the content better. But the user just said \"Great! Could you tell me what topics you are interested in reading about?\" which is a bit vague. The assistant needs more specific information to assist effectively.\n",
      "\n",
      "Wait, but the context provided seems to be about returning a JSON object with 'name' and 'location'. The user gave a name and location, and the assistant is supposed to format it correctly and return it as a JSON object. Then, after that, the assistant needs to say 'TERMINATE' to end the interaction.\n",
      "\n",
      "So, summarizing this without any introductory phrases would be about the assistant correctly formatting the JSON with the given name and location, ensuring the syntax is correct, and ending the conversation properly with 'TERMINATE'.\n",
      "\n",
      "I think the main points are: correct JSON formatting, inclusion of the provided name and location, and proper termination of the interaction. I need to make sure I include all these elements in the summary without adding any extra phrases.\n",
      "</think>\n",
      "\n",
      "The assistant correctly formatted the customer information into a JSON object with the provided name and location, ensuring proper syntax, and concluded the interaction by including the word TERMINATE.\n",
      "\n",
      "--------------------------------------------------------------------------------\n"
     ]
    }
   ],
   "source": [
    "from autogen import initiate_chats\n",
    "\n",
    "chat_results = initiate_chats(chats)"
   ]
  },
  {
   "cell_type": "markdown",
   "id": "4f9e2713",
   "metadata": {},
   "source": [
    "## Print out the summary"
   ]
  },
  {
   "cell_type": "code",
   "execution_count": 37,
   "id": "1e122f8a-1ceb-4635-9672-662114b0552a",
   "metadata": {
    "height": 64
   },
   "outputs": [
    {
     "name": "stdout",
     "output_type": "stream",
     "text": [
      "{'content': '\\nAlright, let\\'s figure out the user\\'s needs here. They provided the name \"SUNDARA\" and the location \"Bangalore\". They want the information returned as a JSON object with \\'name\\' and \\'location\\' keys.\\n\\nI should make sure to format the JSON correctly. Also, I notice the user mentioned to return it as a JSON object only, so I need to avoid any extra text or explanations.\\n\\nI\\'ll structure the JSON with the provided name and location. Since \"SUNDARA\" is in uppercase, I\\'ll include it as-is unless instructed otherwise. \"Bangalore\" is the location, so I\\'ll add that accordingly.\\n\\nDouble-checking to ensure the JSON syntax is correct and there are no errors. Once that\\'s confirmed, I can present the JSON response as requested. Finally, as per the instructions, I\\'ll include \\'TERMINATE\\' to indicate the end of the interaction.\\n</think>\\n\\n**Step 1:** Return the customer information as a JSON object in the format `{\\'name\\': \\'\\', \\'location\\': \\'\\'}`.\\n\\n**Step 2:** After returning the JSON object, include the word `TERMINATE`.\\n\\n---\\n\\n**Response:**\\n\\n```json\\n{\\n  \"name\": \"SUNDARA\",\\n  \"location\": \"Bangalore\"\\n}\\n```\\n\\nTERMINATE', 'refusal': None, 'role': 'assistant', 'audio': None, 'function_call': None, 'tool_calls': None}\n",
      "\n",
      "\n",
      "{'content': '\\nOkay, so I\\'m trying to understand how to summarize the takeaway from a conversation without adding any introductory phrases. Let\\'s see. The user provided a conversation where someone is trying to get information about topics they are interested in reading about. The assistant is asking the user to specify the topics so they can provide more relevant information.\\n\\nI think the takeaway is that the assistant needs to know the user\\'s specific interests to tailor the content better. But the user just said \"Great! Could you tell me what topics you are interested in reading about?\" which is a bit vague. The assistant needs more specific information to assist effectively.\\n\\nWait, but the context provided seems to be about returning a JSON object with \\'name\\' and \\'location\\'. The user gave a name and location, and the assistant is supposed to format it correctly and return it as a JSON object. Then, after that, the assistant needs to say \\'TERMINATE\\' to end the interaction.\\n\\nSo, summarizing this without any introductory phrases would be about the assistant correctly formatting the JSON with the given name and location, ensuring the syntax is correct, and ending the conversation properly with \\'TERMINATE\\'.\\n\\nI think the main points are: correct JSON formatting, inclusion of the provided name and location, and proper termination of the interaction. I need to make sure I include all these elements in the summary without adding any extra phrases.\\n</think>\\n\\nThe assistant correctly formatted the customer information into a JSON object with the provided name and location, ensuring proper syntax, and concluded the interaction by including the word TERMINATE.', 'refusal': None, 'role': 'assistant', 'audio': None, 'function_call': None, 'tool_calls': None}\n",
      "\n",
      "\n",
      "{'content': '\\n\\nThe assistant correctly formatted the customer information into a JSON object with the provided name and location, ensuring proper syntax, and concluded the interaction by including the word TERMINATE.', 'refusal': None, 'role': 'assistant', 'audio': None, 'function_call': None, 'tool_calls': None}\n",
      "\n",
      "\n"
     ]
    }
   ],
   "source": [
    "for chat_result in chat_results:\n",
    "    print(chat_result.summary)\n",
    "    print(\"\\n\")"
   ]
  },
  {
   "cell_type": "markdown",
   "id": "a674c4eb",
   "metadata": {},
   "source": [
    "## Print out the cost"
   ]
  },
  {
   "cell_type": "code",
   "execution_count": null,
   "id": "8b82a10a-afe5-4ba3-97b4-41c8c14b739f",
   "metadata": {
    "height": 64
   },
   "outputs": [],
   "source": [
    "for chat_result in chat_results:\n",
    "    print(chat_result.cost)\n",
    "    print(\"\\n\")"
   ]
  },
  {
   "cell_type": "code",
   "execution_count": null,
   "id": "86ecab96",
   "metadata": {},
   "outputs": [],
   "source": []
  }
 ],
 "metadata": {
  "kernelspec": {
   "display_name": "Python 3 (ipykernel)",
   "language": "python",
   "name": "python3"
  },
  "language_info": {
   "codemirror_mode": {
    "name": "ipython",
    "version": 3
   },
   "file_extension": ".py",
   "mimetype": "text/x-python",
   "name": "python",
   "nbconvert_exporter": "python",
   "pygments_lexer": "ipython3",
   "version": "3.10.16"
  }
 },
 "nbformat": 4,
 "nbformat_minor": 5
}

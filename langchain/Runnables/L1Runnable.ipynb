{
 "cells": [
  {
   "cell_type": "code",
   "execution_count": 9,
   "metadata": {},
   "outputs": [],
   "source": [
    "from langchain_ollama import ChatOllama\n",
    "import os\n",
    "from dotenv import load_dotenv\n",
    "load_dotenv()\n",
    "\n",
    "os.environ[\"GROQ_API_KEY\"]=os.getenv(\"GROQ_API_KEY\")\n",
    "os.environ[\"OPENAI_API_KEY\"]=os.getenv(\"OPENAI_API_KEY\")"
   ]
  },
  {
   "cell_type": "code",
   "execution_count": 10,
   "metadata": {},
   "outputs": [
    {
     "name": "stdout",
     "output_type": "stream",
     "text": [
      "Requirement already satisfied: langchain_core in c:\\users\\socgen\\.conda\\envs\\env311\\lib\\site-packages (0.3.35)\n",
      "Requirement already satisfied: langsmith<0.4,>=0.1.125 in c:\\users\\socgen\\.conda\\envs\\env311\\lib\\site-packages (from langchain_core) (0.1.147)\n",
      "Requirement already satisfied: tenacity!=8.4.0,<10.0.0,>=8.1.0 in c:\\users\\socgen\\.conda\\envs\\env311\\lib\\site-packages (from langchain_core) (8.5.0)\n",
      "Requirement already satisfied: jsonpatch<2.0,>=1.33 in c:\\users\\socgen\\.conda\\envs\\env311\\lib\\site-packages (from langchain_core) (1.33)\n",
      "Requirement already satisfied: PyYAML>=5.3 in c:\\users\\socgen\\.conda\\envs\\env311\\lib\\site-packages (from langchain_core) (6.0.2)\n",
      "Requirement already satisfied: packaging<25,>=23.2 in c:\\users\\socgen\\.conda\\envs\\env311\\lib\\site-packages (from langchain_core) (24.2)\n",
      "Requirement already satisfied: typing-extensions>=4.7 in c:\\users\\socgen\\.conda\\envs\\env311\\lib\\site-packages (from langchain_core) (4.12.2)\n",
      "Requirement already satisfied: pydantic<3.0.0,>=2.5.2 in c:\\users\\socgen\\.conda\\envs\\env311\\lib\\site-packages (from langchain_core) (2.10.6)\n",
      "Requirement already satisfied: jsonpointer>=1.9 in c:\\users\\socgen\\.conda\\envs\\env311\\lib\\site-packages (from jsonpatch<2.0,>=1.33->langchain_core) (3.0.0)\n",
      "Requirement already satisfied: httpx<1,>=0.23.0 in c:\\users\\socgen\\.conda\\envs\\env311\\lib\\site-packages (from langsmith<0.4,>=0.1.125->langchain_core) (0.28.1)\n",
      "Requirement already satisfied: orjson<4.0.0,>=3.9.14 in c:\\users\\socgen\\.conda\\envs\\env311\\lib\\site-packages (from langsmith<0.4,>=0.1.125->langchain_core) (3.10.15)\n",
      "Requirement already satisfied: requests<3,>=2 in c:\\users\\socgen\\.conda\\envs\\env311\\lib\\site-packages (from langsmith<0.4,>=0.1.125->langchain_core) (2.32.3)\n",
      "Requirement already satisfied: requests-toolbelt<2.0.0,>=1.0.0 in c:\\users\\socgen\\.conda\\envs\\env311\\lib\\site-packages (from langsmith<0.4,>=0.1.125->langchain_core) (1.0.0)\n",
      "Requirement already satisfied: annotated-types>=0.6.0 in c:\\users\\socgen\\.conda\\envs\\env311\\lib\\site-packages (from pydantic<3.0.0,>=2.5.2->langchain_core) (0.7.0)\n",
      "Requirement already satisfied: pydantic-core==2.27.2 in c:\\users\\socgen\\.conda\\envs\\env311\\lib\\site-packages (from pydantic<3.0.0,>=2.5.2->langchain_core) (2.27.2)\n",
      "Requirement already satisfied: anyio in c:\\users\\socgen\\.conda\\envs\\env311\\lib\\site-packages (from httpx<1,>=0.23.0->langsmith<0.4,>=0.1.125->langchain_core) (4.8.0)\n",
      "Requirement already satisfied: certifi in c:\\users\\socgen\\.conda\\envs\\env311\\lib\\site-packages (from httpx<1,>=0.23.0->langsmith<0.4,>=0.1.125->langchain_core) (2025.1.31)\n",
      "Requirement already satisfied: httpcore==1.* in c:\\users\\socgen\\.conda\\envs\\env311\\lib\\site-packages (from httpx<1,>=0.23.0->langsmith<0.4,>=0.1.125->langchain_core) (1.0.7)\n",
      "Requirement already satisfied: idna in c:\\users\\socgen\\.conda\\envs\\env311\\lib\\site-packages (from httpx<1,>=0.23.0->langsmith<0.4,>=0.1.125->langchain_core) (3.10)\n",
      "Requirement already satisfied: h11<0.15,>=0.13 in c:\\users\\socgen\\.conda\\envs\\env311\\lib\\site-packages (from httpcore==1.*->httpx<1,>=0.23.0->langsmith<0.4,>=0.1.125->langchain_core) (0.14.0)\n",
      "Requirement already satisfied: charset-normalizer<4,>=2 in c:\\users\\socgen\\.conda\\envs\\env311\\lib\\site-packages (from requests<3,>=2->langsmith<0.4,>=0.1.125->langchain_core) (3.4.1)\n",
      "Requirement already satisfied: urllib3<3,>=1.21.1 in c:\\users\\socgen\\.conda\\envs\\env311\\lib\\site-packages (from requests<3,>=2->langsmith<0.4,>=0.1.125->langchain_core) (2.3.0)\n",
      "Requirement already satisfied: sniffio>=1.1 in c:\\users\\socgen\\.conda\\envs\\env311\\lib\\site-packages (from anyio->httpx<1,>=0.23.0->langsmith<0.4,>=0.1.125->langchain_core) (1.3.1)\n",
      "Note: you may need to restart the kernel to use updated packages.\n"
     ]
    }
   ],
   "source": [
    "pip install langchain_core"
   ]
  },
  {
   "cell_type": "code",
   "execution_count": 2,
   "metadata": {},
   "outputs": [],
   "source": [
    "from langchain_groq import ChatGroq\n",
    "\n",
    "model = ChatGroq(model=\"llama3-8b-8192\")"
   ]
  },
  {
   "cell_type": "code",
   "execution_count": 3,
   "metadata": {},
   "outputs": [],
   "source": [
    "from langchain_core.output_parsers import StrOutputParser\n",
    "from langchain_core.prompts import ChatPromptTemplate\n",
    "\n",
    "prompt = ChatPromptTemplate.from_template(\"tell me a joke about {topic}\")\n",
    "\n",
    "chain = prompt | model | StrOutputParser()"
   ]
  },
  {
   "cell_type": "code",
   "execution_count": 4,
   "metadata": {},
   "outputs": [
    {
     "data": {
      "text/plain": [
       "'Why did the Data Scientist quit their job?\\n\\nBecause they found that the correlation between their work and happiness was weak, and the p-value for their job satisfaction was statistically insignificant!'"
      ]
     },
     "execution_count": 4,
     "metadata": {},
     "output_type": "execute_result"
    }
   ],
   "source": [
    "chain.invoke({\"topic\": \"Data Scientists\"})"
   ]
  },
  {
   "cell_type": "code",
   "execution_count": 5,
   "metadata": {},
   "outputs": [
    {
     "data": {
      "text/plain": [
       "'I think it\\'s a clever play on words! The joke is funny because it\\'s a clever pun on the technical term \"regression to the mean\" in statistics, which refers to the tendency of data to converge towards the average value over time. The joke is saying that the data scientist\\'s work is boring and predictable, and that they\\'re just repeating the same old patterns, which is a clever and humorous twist on the technical concept.\\n\\nThe use of wordplay and cleverness is what makes this joke funny. It\\'s not just a straightforward joke, but it requires a basic understanding of statistical concepts to fully appreciate the humor. I think it\\'s a great example of a \"nerd joke\" that would likely resonate with people who work in the field of data science or have a background in statistics.\\n\\nOverall, I think the joke is funny because it\\'s a clever and unexpected twist on a familiar concept, and it requires a basic understanding of statistics to fully appreciate the humor.'"
      ]
     },
     "execution_count": 5,
     "metadata": {},
     "output_type": "execute_result"
    }
   ],
   "source": [
    "from langchain_core.output_parsers import StrOutputParser\n",
    "\n",
    "analysis_prompt = ChatPromptTemplate.from_template(\"is this a funny joke? {joke}\")\n",
    "\n",
    "composed_chain = {\"joke\": chain} | analysis_prompt | model | StrOutputParser()\n",
    "\n",
    "composed_chain.invoke({\"topic\": \"Data Scientists\"})"
   ]
  },
  {
   "cell_type": "code",
   "execution_count": 7,
   "metadata": {},
   "outputs": [
    {
     "data": {
      "text/plain": [
       "'I think it\\'s a clever joke! It\\'s a play on words, using the common project management term \"take it to the next level\" (meaning to improve or elevate something) and adding a clever twist with the pun on \"scope creep\" (a common phenomenon in project management where the project\\'s scope or requirements keep expanding). The addition of the ladder being used to reach the ceiling is a great visual aid that adds to the humor. Well done!'"
      ]
     },
     "execution_count": 7,
     "metadata": {},
     "output_type": "execute_result"
    }
   ],
   "source": [
    "composed_chain_with_lambda = (\n",
    "    chain\n",
    "    | (lambda input: {\"joke\": input})\n",
    "    | analysis_prompt\n",
    "    | model\n",
    "    | StrOutputParser()\n",
    ")\n",
    "\n",
    "composed_chain_with_lambda.invoke({\"topic\": \"Project Managers\"})"
   ]
  },
  {
   "cell_type": "code",
   "execution_count": 8,
   "metadata": {},
   "outputs": [
    {
     "data": {
      "text/plain": [
       "'I think I see what you\\'re trying to do there!\\n\\nWhile the joke might be a bit of a niche play on words for fans of the TV show Battlestar Galactica, it\\'s definitely a clever pun. The phrase \"needed space\" has a double meaning here, both as a common reason for couples to break up and as a reference to the vastness of space in the sci-fi context.\\n\\nSo, while humor is subjective, I\\'d say that this joke has a good chance of eliciting a chuckle from people who are familiar with the show. Well done, pun-master!'"
      ]
     },
     "execution_count": 8,
     "metadata": {},
     "output_type": "execute_result"
    }
   ],
   "source": [
    "from langchain_core.runnables import RunnableParallel\n",
    "\n",
    "composed_chain_with_pipe = (\n",
    "    RunnableParallel({\"joke\": chain})\n",
    "    .pipe(analysis_prompt)\n",
    "    .pipe(model)\n",
    "    .pipe(StrOutputParser())\n",
    ")\n",
    "\n",
    "composed_chain_with_pipe.invoke({\"topic\": \"battlestar galactica\"})"
   ]
  },
  {
   "cell_type": "code",
   "execution_count": 9,
   "metadata": {},
   "outputs": [
    {
     "data": {
      "text/plain": [
       "'I think it\\'s a clever play on words! The joke is a pun, using the phrase \"take a step in the right direction\" (which is a common idiomatic expression meaning to make a good choice or decision) and incorporating the idea of a ladder (which allows you to physically take a step up to a higher level). The punchline about \"reaching the higher ground\" is a great payoff, as it\\'s a clever extension of the ladder pun and also references the military concept of gaining the high ground in a battle.\\n\\nI think many fans of the TV show Battlestar Galactica (and even non-fans) might appreciate the joke\\'s cleverness and wordplay. Well done!'"
      ]
     },
     "execution_count": 9,
     "metadata": {},
     "output_type": "execute_result"
    }
   ],
   "source": [
    "composed_chain_with_pipe = RunnableParallel({\"joke\": chain}).pipe(\n",
    "    analysis_prompt, model, StrOutputParser()\n",
    ")\n",
    "composed_chain_with_pipe.invoke({\"topic\": \"battlestar galactica\"})"
   ]
  },
  {
   "cell_type": "code",
   "execution_count": null,
   "metadata": {},
   "outputs": [],
   "source": []
  }
 ],
 "metadata": {
  "kernelspec": {
   "display_name": "env311",
   "language": "python",
   "name": "python3"
  },
  "language_info": {
   "codemirror_mode": {
    "name": "ipython",
    "version": 3
   },
   "file_extension": ".py",
   "mimetype": "text/x-python",
   "name": "python",
   "nbconvert_exporter": "python",
   "pygments_lexer": "ipython3",
   "version": "3.11.11"
  }
 },
 "nbformat": 4,
 "nbformat_minor": 2
}

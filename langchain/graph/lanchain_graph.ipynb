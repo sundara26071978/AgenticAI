{
 "cells": [
  {
   "cell_type": "code",
   "execution_count": 6,
   "metadata": {},
   "outputs": [
    {
     "name": "stdout",
     "output_type": "stream",
     "text": [
      "Note: you may need to restart the kernel to use updated packages.\n"
     ]
    }
   ],
   "source": [
    "#%pip install --quiet  langchain-experimental neo4j"
   ]
  },
  {
   "cell_type": "code",
   "execution_count": 1,
   "metadata": {},
   "outputs": [],
   "source": [
    "from langchain_ollama import ChatOllama\n",
    "import os\n",
    "from dotenv import load_dotenv\n",
    "load_dotenv()\n",
    "\n",
    "os.environ[\"GROQ_API_KEY\"]=os.getenv(\"GROQ_API_KEY\")\n",
    "os.environ[\"OPENAI_API_KEY\"]=os.getenv(\"OPENAI_API_KEY\")"
   ]
  },
  {
   "cell_type": "code",
   "execution_count": 2,
   "metadata": {},
   "outputs": [],
   "source": [
    "from langchain_groq import ChatGroq\n",
    "\n",
    "llmgorq = ChatGroq(model=\"llama-3.3-70b-versatile\")\n",
    "\n",
    "#llmgroq.invoke(\"Hello, how are you?\")"
   ]
  },
  {
   "cell_type": "code",
   "execution_count": 3,
   "metadata": {},
   "outputs": [],
   "source": [
    "\n",
    "llmollama = ChatOllama(\n",
    "    #model=\"llama3.1:latest\",\n",
    "    model=\"gemma2:latest\",\n",
    "    \n",
    "    temperature=0,\n",
    "    # other params...\n",
    ")\n",
    "#llm.invoke(\"Hello, how are you?\")"
   ]
  },
  {
   "cell_type": "code",
   "execution_count": 4,
   "metadata": {},
   "outputs": [],
   "source": [
    "llm=llmgorq"
   ]
  },
  {
   "cell_type": "code",
   "execution_count": 5,
   "metadata": {},
   "outputs": [],
   "source": [
    "os.environ[\"NEO4J_URI\"] = \"bolt://localhost:7687\"\n",
    "os.environ[\"NEO4J_USERNAME\"] = \"neo4j4sunj\"\n",
    "os.environ[\"NEO4J_PASSWORD\"] = \"neo4j4sunj\"\n",
    "api_key = os.environ.get(\"OPENAI_API_KEY\")"
   ]
  },
  {
   "cell_type": "code",
   "execution_count": null,
   "metadata": {},
   "outputs": [],
   "source": []
  },
  {
   "cell_type": "code",
   "execution_count": 6,
   "metadata": {},
   "outputs": [],
   "source": [
    "from langchain_neo4j import Neo4jGraph\n",
    "\n",
    "graph = Neo4jGraph(url=os.environ[\"NEO4J_URI\"],\n",
    "                   username=os.environ[\"NEO4J_USERNAME\"], \n",
    "                   password=os.environ[\"NEO4J_PASSWORD\"],\n",
    "                   refresh_schema=False)\n",
    "\n"
   ]
  },
  {
   "cell_type": "code",
   "execution_count": 7,
   "metadata": {},
   "outputs": [],
   "source": [
    "import os\n",
    "\n",
    "from langchain_experimental.graph_transformers import LLMGraphTransformer\n",
    "\n",
    "llm_transformer = LLMGraphTransformer(llm=llm)"
   ]
  },
  {
   "cell_type": "code",
   "execution_count": 8,
   "metadata": {},
   "outputs": [
    {
     "name": "stdout",
     "output_type": "stream",
     "text": [
      "Nodes:[Node(id='Marie Curie', type='Person', properties={}), Node(id='Pierre Curie', type='Person', properties={}), Node(id='Nobel Prize', type='Award', properties={}), Node(id='University Of Paris', type='University', properties={})]\n",
      "Relationships:[Relationship(source=Node(id='Marie Curie', type='Person', properties={}), target=Node(id='Nobel Prize', type='Award', properties={}), type='WINNER', properties={}), Relationship(source=Node(id='Marie Curie', type='Person', properties={}), target=Node(id='Pierre Curie', type='Person', properties={}), type='SPOUSE', properties={}), Relationship(source=Node(id='Marie Curie', type='Person', properties={}), target=Node(id='University Of Paris', type='University', properties={}), type='PROFESSOR', properties={})]\n"
     ]
    }
   ],
   "source": [
    "from langchain_core.documents import Document\n",
    "\n",
    "text = \"\"\"\n",
    "Marie Curie, born in 1867, was a Polish and naturalised-French physicist and chemist who conducted pioneering research on radioactivity.\n",
    "She was the first woman to win a Nobel Prize, the first person to win a Nobel Prize twice, and the only person to win a Nobel Prize in two scientific fields.\n",
    "Her husband, Pierre Curie, was a co-winner of her first Nobel Prize, making them the first-ever married couple to win the Nobel Prize and launching the Curie family legacy of five Nobel Prizes.\n",
    "She was, in 1906, the first woman to become a professor at the University of Paris.\n",
    "\"\"\"\n",
    "documents = [Document(page_content=text)]\n",
    "graph_documents = llm_transformer.convert_to_graph_documents(documents)\n",
    "print(f\"Nodes:{graph_documents[0].nodes}\")\n",
    "print(f\"Relationships:{graph_documents[0].relationships}\")"
   ]
  },
  {
   "cell_type": "code",
   "execution_count": 9,
   "metadata": {},
   "outputs": [
    {
     "name": "stdout",
     "output_type": "stream",
     "text": [
      "Nodes:[Node(id='Marie Curie', type='Person', properties={}), Node(id='Pierre Curie', type='Person', properties={}), Node(id='University Of Paris', type='Organization', properties={}), Node(id='Nobel Prize', type='Organization', properties={})]\n",
      "Relationships:[Relationship(source=Node(id='Marie Curie', type='Person', properties={}), target=Node(id='Pierre Curie', type='Person', properties={}), type='SPOUSE', properties={})]\n"
     ]
    }
   ],
   "source": [
    "llm_transformer_filtered = LLMGraphTransformer(\n",
    "    llm=llm,\n",
    "    allowed_nodes=[\"Person\", \"Country\", \"Organization\"],\n",
    "    allowed_relationships=[\"NATIONALITY\", \"LOCATED_IN\", \"WORKED_AT\", \"SPOUSE\"],\n",
    ")\n",
    "graph_documents_filtered = llm_transformer_filtered.convert_to_graph_documents(\n",
    "    documents\n",
    ")\n",
    "print(f\"Nodes:{graph_documents_filtered[0].nodes}\")\n",
    "print(f\"Relationships:{graph_documents_filtered[0].relationships}\")"
   ]
  },
  {
   "cell_type": "code",
   "execution_count": 10,
   "metadata": {},
   "outputs": [
    {
     "name": "stdout",
     "output_type": "stream",
     "text": [
      "Nodes:[Node(id='Marie Curie', type='Person', properties={}), Node(id='Pierre Curie', type='Person', properties={}), Node(id='University Of Paris', type='Organization', properties={}), Node(id='Poland', type='Country', properties={}), Node(id='France', type='Country', properties={})]\n",
      "Relationships:[Relationship(source=Node(id='Marie Curie', type='Person', properties={}), target=Node(id='Pierre Curie', type='Person', properties={}), type='SPOUSE', properties={}), Relationship(source=Node(id='Marie Curie', type='Person', properties={}), target=Node(id='Poland', type='Country', properties={}), type='NATIONALITY', properties={}), Relationship(source=Node(id='Marie Curie', type='Person', properties={}), target=Node(id='France', type='Country', properties={}), type='NATIONALITY', properties={}), Relationship(source=Node(id='Marie Curie', type='Person', properties={}), target=Node(id='University Of Paris', type='Organization', properties={}), type='WORKED_AT', properties={})]\n"
     ]
    }
   ],
   "source": [
    "allowed_relationships = [\n",
    "    (\"Person\", \"SPOUSE\", \"Person\"),\n",
    "    (\"Person\", \"NATIONALITY\", \"Country\"),\n",
    "    (\"Person\", \"WORKED_AT\", \"Organization\"),\n",
    "]\n",
    "\n",
    "llm_transformer_tuple = LLMGraphTransformer(\n",
    "    llm=llm,\n",
    "    allowed_nodes=[\"Person\", \"Country\", \"Organization\"],\n",
    "    allowed_relationships=allowed_relationships,\n",
    ")\n",
    "graph_documents_filtered = llm_transformer_tuple.convert_to_graph_documents(documents)\n",
    "print(f\"Nodes:{graph_documents_filtered[0].nodes}\")\n",
    "print(f\"Relationships:{graph_documents_filtered[0].relationships}\")"
   ]
  },
  {
   "cell_type": "code",
   "execution_count": 11,
   "metadata": {},
   "outputs": [
    {
     "name": "stdout",
     "output_type": "stream",
     "text": [
      "Nodes:[Node(id='Marie Curie', type='Person', properties={'born_year': '1867'}), Node(id='Pierre Curie', type='Person', properties={}), Node(id='University Of Paris', type='Organization', properties={})]\n",
      "Relationships:[Relationship(source=Node(id='Marie Curie', type='Person', properties={}), target=Node(id='Pierre Curie', type='Person', properties={}), type='SPOUSE', properties={}), Relationship(source=Node(id='Marie Curie', type='Person', properties={}), target=Node(id='University Of Paris', type='Organization', properties={}), type='WORKED_AT', properties={})]\n"
     ]
    }
   ],
   "source": [
    "llm_transformer_props = LLMGraphTransformer(\n",
    "    llm=llm,\n",
    "    allowed_nodes=[\"Person\", \"Country\", \"Organization\"],\n",
    "    allowed_relationships=[\"NATIONALITY\", \"LOCATED_IN\", \"WORKED_AT\", \"SPOUSE\"],\n",
    "    node_properties=[\"born_year\"],\n",
    ")\n",
    "graph_documents_props = llm_transformer_props.convert_to_graph_documents(documents)\n",
    "print(f\"Nodes:{graph_documents_props[0].nodes}\")\n",
    "print(f\"Relationships:{graph_documents_props[0].relationships}\")"
   ]
  },
  {
   "cell_type": "code",
   "execution_count": 13,
   "metadata": {},
   "outputs": [
    {
     "name": "stderr",
     "output_type": "stream",
     "text": [
      "[#C695]  _: <CONNECTION> error: Failed to write data to connection IPv4Address(('localhost', 7687)) (ResolvedIPv4Address(('127.0.0.1', 7687))): ConnectionResetError(10054, 'An existing connection was forcibly closed by the remote host', None, 10054, None)\n",
      "Transaction failed and will be retried in 0.9641032884385959s (Failed to write data to connection IPv4Address(('localhost', 7687)) (ResolvedIPv4Address(('127.0.0.1', 7687))))\n"
     ]
    }
   ],
   "source": [
    "graph.add_graph_documents(graph_documents_props)\n",
    "\n"
   ]
  },
  {
   "cell_type": "code",
   "execution_count": 10,
   "metadata": {},
   "outputs": [],
   "source": [
    "from operator import add\n",
    "from typing import Annotated, List\n",
    "\n",
    "from typing_extensions import TypedDict\n",
    "\n",
    "\n",
    "class InputState(TypedDict):\n",
    "    question: str\n",
    "\n",
    "\n",
    "class OverallState(TypedDict):\n",
    "    question: str\n",
    "    next_action: str\n",
    "    cypher_statement: str\n",
    "    cypher_errors: List[str]\n",
    "    database_records: List[dict]\n",
    "    steps: Annotated[List[str], add]\n",
    "\n",
    "\n",
    "class OutputState(TypedDict):\n",
    "    answer: str\n",
    "    steps: List[str]\n",
    "    cypher_statement: str"
   ]
  },
  {
   "cell_type": "code",
   "execution_count": 11,
   "metadata": {},
   "outputs": [],
   "source": [
    "from typing import Literal\n",
    "\n",
    "from langchain_core.prompts import ChatPromptTemplate\n",
    "from pydantic import BaseModel, Field\n",
    "\n",
    "guardrails_system = \"\"\"\n",
    "As an intelligent assistant, your primary objective is to decide whether a given question is related to movies or not. \n",
    "If the question is related to movies, output \"movie\". Otherwise, output \"end\".\n",
    "To make this decision, assess the content of the question and determine if it refers to any movie, actor, director, film industry, \n",
    "or related topics. Provide only the specified output: \"movie\" or \"end\".\n",
    "\"\"\"\n",
    "guardrails_prompt = ChatPromptTemplate.from_messages(\n",
    "    [\n",
    "        (\n",
    "            \"system\",\n",
    "            guardrails_system,\n",
    "        ),\n",
    "        (\n",
    "            \"human\",\n",
    "            (\"{question}\"),\n",
    "        ),\n",
    "    ]\n",
    ")\n",
    "\n",
    "\n",
    "class GuardrailsOutput(BaseModel):\n",
    "    decision: Literal[\"movie\", \"end\"] = Field(\n",
    "        description=\"Decision on whether the question is related to movies\"\n",
    "    )\n",
    "\n",
    "\n",
    "guardrails_chain = guardrails_prompt | llm.with_structured_output(GuardrailsOutput)\n",
    "\n",
    "\n",
    "def guardrails(state: InputState) -> OverallState:\n",
    "    \"\"\"\n",
    "    Decides if the question is related to movies or not.\n",
    "    \"\"\"\n",
    "    guardrails_output = guardrails_chain.invoke({\"question\": state.get(\"question\")})\n",
    "    database_records = None\n",
    "    if guardrails_output.decision == \"end\":\n",
    "        database_records = \"This questions is not about movies or their cast. Therefore I cannot answer this question.\"\n",
    "    return {\n",
    "        \"next_action\": guardrails_output.decision,\n",
    "        \"database_records\": database_records,\n",
    "        \"steps\": [\"guardrail\"],\n",
    "    }"
   ]
  },
  {
   "cell_type": "code",
   "execution_count": 12,
   "metadata": {},
   "outputs": [],
   "source": [
    "from langchain_core.example_selectors import SemanticSimilarityExampleSelector\n",
    "from langchain_neo4j import Neo4jVector\n",
    "from langchain_openai import OpenAIEmbeddings\n",
    "\n",
    "examples = [\n",
    "    {\n",
    "        \"question\": \"How many artists are there?\",\n",
    "        \"query\": \"MATCH (a:Person)-[:ACTED_IN]->(:Movie) RETURN count(DISTINCT a)\",\n",
    "    },\n",
    "    {\n",
    "        \"question\": \"Which actors played in the movie Casino?\",\n",
    "        \"query\": \"MATCH (m:Movie {title: 'Casino'})<-[:ACTED_IN]-(a) RETURN a.name\",\n",
    "    },\n",
    "    {\n",
    "        \"question\": \"How many movies has Tom Hanks acted in?\",\n",
    "        \"query\": \"MATCH (a:Person {name: 'Tom Hanks'})-[:ACTED_IN]->(m:Movie) RETURN count(m)\",\n",
    "    },\n",
    "    {\n",
    "        \"question\": \"List all the genres of the movie Schindler's List\",\n",
    "        \"query\": \"MATCH (m:Movie {title: 'Schindler's List'})-[:IN_GENRE]->(g:Genre) RETURN g.name\",\n",
    "    },\n",
    "    {\n",
    "        \"question\": \"Which actors have worked in movies from both the comedy and action genres?\",\n",
    "        \"query\": \"MATCH (a:Person)-[:ACTED_IN]->(:Movie)-[:IN_GENRE]->(g1:Genre), (a)-[:ACTED_IN]->(:Movie)-[:IN_GENRE]->(g2:Genre) WHERE g1.name = 'Comedy' AND g2.name = 'Action' RETURN DISTINCT a.name\",\n",
    "    },\n",
    "    {\n",
    "        \"question\": \"Which directors have made movies with at least three different actors named 'John'?\",\n",
    "        \"query\": \"MATCH (d:Person)-[:DIRECTED]->(m:Movie)<-[:ACTED_IN]-(a:Person) WHERE a.name STARTS WITH 'John' WITH d, COUNT(DISTINCT a) AS JohnsCount WHERE JohnsCount >= 3 RETURN d.name\",\n",
    "    },\n",
    "    {\n",
    "        \"question\": \"Identify movies where directors also played a role in the film.\",\n",
    "        \"query\": \"MATCH (p:Person)-[:DIRECTED]->(m:Movie), (p)-[:ACTED_IN]->(m) RETURN m.title, p.name\",\n",
    "    },\n",
    "    {\n",
    "        \"question\": \"Find the actor with the highest number of movies in the database.\",\n",
    "        \"query\": \"MATCH (a:Actor)-[:ACTED_IN]->(m:Movie) RETURN a.name, COUNT(m) AS movieCount ORDER BY movieCount DESC LIMIT 1\",\n",
    "    },\n",
    "]\n",
    "\n",
    "example_selector = SemanticSimilarityExampleSelector.from_examples(\n",
    "    examples, OpenAIEmbeddings(), Neo4jVector, k=5, input_keys=[\"question\"]\n",
    ")"
   ]
  },
  {
   "cell_type": "code",
   "execution_count": 13,
   "metadata": {},
   "outputs": [],
   "source": [
    "from langchain_core.output_parsers import StrOutputParser\n",
    "\n",
    "text2cypher_prompt = ChatPromptTemplate.from_messages(\n",
    "    [\n",
    "        (\n",
    "            \"system\",\n",
    "            (\n",
    "                \"Given an input question, convert it to a Cypher query. No pre-amble.\"\n",
    "                \"Do not wrap the response in any backticks or anything else. Respond with a Cypher statement only!\"\n",
    "            ),\n",
    "        ),\n",
    "        (\n",
    "            \"human\",\n",
    "            (\n",
    "                \"\"\"You are a Neo4j expert. Given an input question, create a syntactically correct Cypher query to run.\n",
    "Do not wrap the response in any backticks or anything else. Respond with a Cypher statement only!\n",
    "Here is the schema information\n",
    "{schema}\n",
    "\n",
    "Below are a number of examples of questions and their corresponding Cypher queries.\n",
    "\n",
    "{fewshot_examples}\n",
    "\n",
    "User input: {question}\n",
    "Cypher query:\"\"\"\n",
    "            ),\n",
    "        ),\n",
    "    ]\n",
    ")\n",
    "\n",
    "text2cypher_chain = text2cypher_prompt | llm | StrOutputParser()\n",
    "\n",
    "\n",
    "def generate_cypher(state: OverallState) -> OverallState:\n",
    "    \"\"\"\n",
    "    Generates a cypher statement based on the provided schema and user input\n",
    "    \"\"\"\n",
    "    NL = \"\\n\"\n",
    "    fewshot_examples = (NL * 2).join(\n",
    "        [\n",
    "            f\"Question: {el['question']}{NL}Cypher:{el['query']}\"\n",
    "            for el in example_selector.select_examples(\n",
    "                {\"question\": state.get(\"question\")}\n",
    "            )\n",
    "        ]\n",
    "    )\n",
    "    generated_cypher = text2cypher_chain.invoke(\n",
    "        {\n",
    "            \"question\": state.get(\"question\"),\n",
    "            \"fewshot_examples\": fewshot_examples,\n",
    "            \"schema\": enhanced_graph.schema,\n",
    "        }\n",
    "    )\n",
    "    return {\"cypher_statement\": generated_cypher, \"steps\": [\"generate_cypher\"]}"
   ]
  },
  {
   "cell_type": "code",
   "execution_count": 14,
   "metadata": {},
   "outputs": [],
   "source": [
    "from typing import List, Optional\n",
    "\n",
    "validate_cypher_system = \"\"\"\n",
    "You are a Cypher expert reviewing a statement written by a junior developer.\n",
    "\"\"\"\n",
    "\n",
    "validate_cypher_user = \"\"\"You must check the following:\n",
    "* Are there any syntax errors in the Cypher statement?\n",
    "* Are there any missing or undefined variables in the Cypher statement?\n",
    "* Are any node labels missing from the schema?\n",
    "* Are any relationship types missing from the schema?\n",
    "* Are any of the properties not included in the schema?\n",
    "* Does the Cypher statement include enough information to answer the question?\n",
    "\n",
    "Examples of good errors:\n",
    "* Label (:Foo) does not exist, did you mean (:Bar)?\n",
    "* Property bar does not exist for label Foo, did you mean baz?\n",
    "* Relationship FOO does not exist, did you mean FOO_BAR?\n",
    "\n",
    "Schema:\n",
    "{schema}\n",
    "\n",
    "The question is:\n",
    "{question}\n",
    "\n",
    "The Cypher statement is:\n",
    "{cypher}\n",
    "\n",
    "Make sure you don't make any mistakes!\"\"\"\n",
    "\n",
    "validate_cypher_prompt = ChatPromptTemplate.from_messages(\n",
    "    [\n",
    "        (\n",
    "            \"system\",\n",
    "            validate_cypher_system,\n",
    "        ),\n",
    "        (\n",
    "            \"human\",\n",
    "            (validate_cypher_user),\n",
    "        ),\n",
    "    ]\n",
    ")\n",
    "\n",
    "\n",
    "class Property(BaseModel):\n",
    "    \"\"\"\n",
    "    Represents a filter condition based on a specific node property in a graph in a Cypher statement.\n",
    "    \"\"\"\n",
    "\n",
    "    node_label: str = Field(\n",
    "        description=\"The label of the node to which this property belongs.\"\n",
    "    )\n",
    "    property_key: str = Field(description=\"The key of the property being filtered.\")\n",
    "    property_value: str = Field(\n",
    "        description=\"The value that the property is being matched against.\"\n",
    "    )\n",
    "\n",
    "\n",
    "class ValidateCypherOutput(BaseModel):\n",
    "    \"\"\"\n",
    "    Represents the validation result of a Cypher query's output,\n",
    "    including any errors and applied filters.\n",
    "    \"\"\"\n",
    "\n",
    "    errors: Optional[List[str]] = Field(\n",
    "        description=\"A list of syntax or semantical errors in the Cypher statement. Always explain the discrepancy between schema and Cypher statement\"\n",
    "    )\n",
    "    filters: Optional[List[Property]] = Field(\n",
    "        description=\"A list of property-based filters applied in the Cypher statement.\"\n",
    "    )\n",
    "\n",
    "\n",
    "validate_cypher_chain = validate_cypher_prompt | llm.with_structured_output(\n",
    "    ValidateCypherOutput\n",
    ")"
   ]
  },
  {
   "cell_type": "code",
   "execution_count": 15,
   "metadata": {},
   "outputs": [],
   "source": [
    "from langchain_neo4j.chains.graph_qa.cypher_utils import CypherQueryCorrector, Schema\n",
    "\n",
    "# Cypher query corrector is experimental\n",
    "corrector_schema = [\n",
    "    Schema(el[\"start\"], el[\"type\"], el[\"end\"])\n",
    "    for el in enhanced_graph.structured_schema.get(\"relationships\")\n",
    "]\n",
    "cypher_query_corrector = CypherQueryCorrector(corrector_schema)"
   ]
  },
  {
   "cell_type": "code",
   "execution_count": 16,
   "metadata": {},
   "outputs": [],
   "source": [
    "from neo4j.exceptions import CypherSyntaxError\n",
    "\n",
    "\n",
    "def validate_cypher(state: OverallState) -> OverallState:\n",
    "    \"\"\"\n",
    "    Validates the Cypher statements and maps any property values to the database.\n",
    "    \"\"\"\n",
    "    errors = []\n",
    "    mapping_errors = []\n",
    "    # Check for syntax errors\n",
    "    try:\n",
    "        enhanced_graph.query(f\"EXPLAIN {state.get('cypher_statement')}\")\n",
    "    except CypherSyntaxError as e:\n",
    "        errors.append(e.message)\n",
    "    # Experimental feature for correcting relationship directions\n",
    "    corrected_cypher = cypher_query_corrector(state.get(\"cypher_statement\"))\n",
    "    if not corrected_cypher:\n",
    "        errors.append(\"The generated Cypher statement doesn't fit the graph schema\")\n",
    "    if not corrected_cypher == state.get(\"cypher_statement\"):\n",
    "        print(\"Relationship direction was corrected\")\n",
    "    # Use LLM to find additional potential errors and get the mapping for values\n",
    "    llm_output = validate_cypher_chain.invoke(\n",
    "        {\n",
    "            \"question\": state.get(\"question\"),\n",
    "            \"schema\": enhanced_graph.schema,\n",
    "            \"cypher\": state.get(\"cypher_statement\"),\n",
    "        }\n",
    "    )\n",
    "    if llm_output.errors:\n",
    "        errors.extend(llm_output.errors)\n",
    "    if llm_output.filters:\n",
    "        for filter in llm_output.filters:\n",
    "            # Do mapping only for string values\n",
    "            if (\n",
    "                not [\n",
    "                    prop\n",
    "                    for prop in enhanced_graph.structured_schema[\"node_props\"][\n",
    "                        filter.node_label\n",
    "                    ]\n",
    "                    if prop[\"property\"] == filter.property_key\n",
    "                ][0][\"type\"]\n",
    "                == \"STRING\"\n",
    "            ):\n",
    "                continue\n",
    "            mapping = enhanced_graph.query(\n",
    "                f\"MATCH (n:{filter.node_label}) WHERE toLower(n.`{filter.property_key}`) = toLower($value) RETURN 'yes' LIMIT 1\",\n",
    "                {\"value\": filter.property_value},\n",
    "            )\n",
    "            if not mapping:\n",
    "                print(\n",
    "                    f\"Missing value mapping for {filter.node_label} on property {filter.property_key} with value {filter.property_value}\"\n",
    "                )\n",
    "                mapping_errors.append(\n",
    "                    f\"Missing value mapping for {filter.node_label} on property {filter.property_key} with value {filter.property_value}\"\n",
    "                )\n",
    "    if mapping_errors:\n",
    "        next_action = \"end\"\n",
    "    elif errors:\n",
    "        next_action = \"correct_cypher\"\n",
    "    else:\n",
    "        next_action = \"execute_cypher\"\n",
    "\n",
    "    return {\n",
    "        \"next_action\": next_action,\n",
    "        \"cypher_statement\": corrected_cypher,\n",
    "        \"cypher_errors\": errors,\n",
    "        \"steps\": [\"validate_cypher\"],\n",
    "    }"
   ]
  },
  {
   "cell_type": "code",
   "execution_count": 17,
   "metadata": {},
   "outputs": [],
   "source": [
    "correct_cypher_prompt = ChatPromptTemplate.from_messages(\n",
    "    [\n",
    "        (\n",
    "            \"system\",\n",
    "            (\n",
    "                \"You are a Cypher expert reviewing a statement written by a junior developer. \"\n",
    "                \"You need to correct the Cypher statement based on the provided errors. No pre-amble.\"\n",
    "                \"Do not wrap the response in any backticks or anything else. Respond with a Cypher statement only!\"\n",
    "            ),\n",
    "        ),\n",
    "        (\n",
    "            \"human\",\n",
    "            (\n",
    "                \"\"\"Check for invalid syntax or semantics and return a corrected Cypher statement.\n",
    "\n",
    "Schema:\n",
    "{schema}\n",
    "\n",
    "Note: Do not include any explanations or apologies in your responses.\n",
    "Do not wrap the response in any backticks or anything else.\n",
    "Respond with a Cypher statement only!\n",
    "\n",
    "Do not respond to any questions that might ask anything else than for you to construct a Cypher statement.\n",
    "\n",
    "The question is:\n",
    "{question}\n",
    "\n",
    "The Cypher statement is:\n",
    "{cypher}\n",
    "\n",
    "The errors are:\n",
    "{errors}\n",
    "\n",
    "Corrected Cypher statement: \"\"\"\n",
    "            ),\n",
    "        ),\n",
    "    ]\n",
    ")\n",
    "\n",
    "correct_cypher_chain = correct_cypher_prompt | llm | StrOutputParser()\n",
    "\n",
    "\n",
    "def correct_cypher(state: OverallState) -> OverallState:\n",
    "    \"\"\"\n",
    "    Correct the Cypher statement based on the provided errors.\n",
    "    \"\"\"\n",
    "    corrected_cypher = correct_cypher_chain.invoke(\n",
    "        {\n",
    "            \"question\": state.get(\"question\"),\n",
    "            \"errors\": state.get(\"cypher_errors\"),\n",
    "            \"cypher\": state.get(\"cypher_statement\"),\n",
    "            \"schema\": enhanced_graph.schema,\n",
    "        }\n",
    "    )\n",
    "\n",
    "    return {\n",
    "        \"next_action\": \"validate_cypher\",\n",
    "        \"cypher_statement\": corrected_cypher,\n",
    "        \"steps\": [\"correct_cypher\"],\n",
    "    }"
   ]
  },
  {
   "cell_type": "code",
   "execution_count": 18,
   "metadata": {},
   "outputs": [],
   "source": [
    "no_results = \"I couldn't find any relevant information in the database\"\n",
    "\n",
    "\n",
    "def execute_cypher(state: OverallState) -> OverallState:\n",
    "    \"\"\"\n",
    "    Executes the given Cypher statement.\n",
    "    \"\"\"\n",
    "\n",
    "    records = enhanced_graph.query(state.get(\"cypher_statement\"))\n",
    "    return {\n",
    "        \"database_records\": records if records else no_results,\n",
    "        \"next_action\": \"end\",\n",
    "        \"steps\": [\"execute_cypher\"],\n",
    "    }"
   ]
  },
  {
   "cell_type": "code",
   "execution_count": 19,
   "metadata": {},
   "outputs": [],
   "source": [
    "generate_final_prompt = ChatPromptTemplate.from_messages(\n",
    "    [\n",
    "        (\n",
    "            \"system\",\n",
    "            \"You are a helpful assistant\",\n",
    "        ),\n",
    "        (\n",
    "            \"human\",\n",
    "            (\n",
    "                \"\"\"Use the following results retrieved from a database to provide\n",
    "a succinct, definitive answer to the user's question.\n",
    "\n",
    "Respond as if you are answering the question directly.\n",
    "\n",
    "Results: {results}\n",
    "Question: {question}\"\"\"\n",
    "            ),\n",
    "        ),\n",
    "    ]\n",
    ")\n",
    "\n",
    "generate_final_chain = generate_final_prompt | llm | StrOutputParser()\n",
    "\n",
    "\n",
    "def generate_final_answer(state: OverallState) -> OutputState:\n",
    "    \"\"\"\n",
    "    Decides if the question is related to movies.\n",
    "    \"\"\"\n",
    "    final_answer = generate_final_chain.invoke(\n",
    "        {\"question\": state.get(\"question\"), \"results\": state.get(\"database_records\")}\n",
    "    )\n",
    "    return {\"answer\": final_answer, \"steps\": [\"generate_final_answer\"]}"
   ]
  },
  {
   "cell_type": "code",
   "execution_count": 20,
   "metadata": {},
   "outputs": [],
   "source": [
    "def guardrails_condition(\n",
    "    state: OverallState,\n",
    ") -> Literal[\"generate_cypher\", \"generate_final_answer\"]:\n",
    "    if state.get(\"next_action\") == \"end\":\n",
    "        return \"generate_final_answer\"\n",
    "    elif state.get(\"next_action\") == \"movie\":\n",
    "        return \"generate_cypher\"\n",
    "\n",
    "\n",
    "def validate_cypher_condition(\n",
    "    state: OverallState,\n",
    ") -> Literal[\"generate_final_answer\", \"correct_cypher\", \"execute_cypher\"]:\n",
    "    if state.get(\"next_action\") == \"end\":\n",
    "        return \"generate_final_answer\"\n",
    "    elif state.get(\"next_action\") == \"correct_cypher\":\n",
    "        return \"correct_cypher\"\n",
    "    elif state.get(\"next_action\") == \"execute_cypher\":\n",
    "        return \"execute_cypher\""
   ]
  },
  {
   "cell_type": "code",
   "execution_count": 21,
   "metadata": {},
   "outputs": [
    {
     "data": {
      "image/png": "[encoded data removed]",
      "text/plain": [
       "<IPython.core.display.Image object>"
      ]
     },
     "metadata": {},
     "output_type": "display_data"
    }
   ],
   "source": [
    "from IPython.display import Image, display\n",
    "from langgraph.graph import END, START, StateGraph\n",
    "\n",
    "langgraph = StateGraph(OverallState, input=InputState, output=OutputState)\n",
    "langgraph.add_node(guardrails)\n",
    "langgraph.add_node(generate_cypher)\n",
    "langgraph.add_node(validate_cypher)\n",
    "langgraph.add_node(correct_cypher)\n",
    "langgraph.add_node(execute_cypher)\n",
    "langgraph.add_node(generate_final_answer)\n",
    "\n",
    "langgraph.add_edge(START, \"guardrails\")\n",
    "langgraph.add_conditional_edges(\n",
    "    \"guardrails\",\n",
    "    guardrails_condition,\n",
    ")\n",
    "langgraph.add_edge(\"generate_cypher\", \"validate_cypher\")\n",
    "langgraph.add_conditional_edges(\n",
    "    \"validate_cypher\",\n",
    "    validate_cypher_condition,\n",
    ")\n",
    "langgraph.add_edge(\"execute_cypher\", \"generate_final_answer\")\n",
    "langgraph.add_edge(\"correct_cypher\", \"validate_cypher\")\n",
    "langgraph.add_edge(\"generate_final_answer\", END)\n",
    "\n",
    "langgraph = langgraph.compile()\n",
    "\n",
    "# View\n",
    "display(Image(langgraph.get_graph().draw_mermaid_png()))"
   ]
  },
  {
   "cell_type": "code",
   "execution_count": 22,
   "metadata": {},
   "outputs": [
    {
     "data": {
      "text/plain": [
       "{'answer': \"The weather in Spain varies depending on the region and time of year. Spain is a large country with a diverse climate, ranging from the Mediterranean coast to the mountainous interior. Generally, the southern region of Andalusia tends to be warmer and sunnier, while the northern regions of Galicia and the Basque Country experience more rainfall and cooler temperatures. The central region, including Madrid, has a continental climate with cold winters and hot summers. Overall, Spain's weather is characterized by mild winters and warm summers, with significant regional variations.\",\n",
       " 'steps': ['guardrail', 'generate_final_answer']}"
      ]
     },
     "execution_count": 22,
     "metadata": {},
     "output_type": "execute_result"
    }
   ],
   "source": [
    "langgraph.invoke({\"question\": \"What's the weather in Spain?\"})"
   ]
  },
  {
   "cell_type": "code",
   "execution_count": 23,
   "metadata": {},
   "outputs": [
    {
     "data": {
      "text/plain": [
       "{'answer': 'The cast of the movie \"Casino\" includes Robert De Niro, Joe Pesci, Sharon Stone, and James Woods.',\n",
       " 'steps': ['guardrail',\n",
       "  'generate_cypher',\n",
       "  'validate_cypher',\n",
       "  'execute_cypher',\n",
       "  'generate_final_answer'],\n",
       " 'cypher_statement': \"MATCH (m:Movie {title: 'Casino'})<-[:ACTED_IN]-(a) RETURN a.name\"}"
      ]
     },
     "execution_count": 23,
     "metadata": {},
     "output_type": "execute_result"
    }
   ],
   "source": [
    "langgraph.invoke({\"question\": \"What was the cast of the Casino?\"})"
   ]
  },
  {
   "cell_type": "code",
   "execution_count": 24,
   "metadata": {},
   "outputs": [
    {
     "data": {
      "text/plain": [
       "{'answer': 'Tom Hanks has acted in the most number of movies, with a total of 28 movies.',\n",
       " 'steps': ['guardrail',\n",
       "  'generate_cypher',\n",
       "  'validate_cypher',\n",
       "  'execute_cypher',\n",
       "  'generate_final_answer'],\n",
       " 'cypher_statement': 'MATCH (a:Person)-[:ACTED_IN]->(m:Movie) RETURN a.name, COUNT(m) AS movieCount ORDER BY movieCount DESC LIMIT 1'}"
      ]
     },
     "execution_count": 24,
     "metadata": {},
     "output_type": "execute_result"
    }
   ],
   "source": [
    "langgraph.invoke({\"question\": \"which actor has acted in most number of movies\"})"
   ]
  },
  {
   "cell_type": "code",
   "execution_count": 25,
   "metadata": {},
   "outputs": [
    {
     "data": {
      "text/plain": [
       "{'answer': 'The actor who has acted in the most movies averages 1 movie per year.',\n",
       " 'steps': ['guardrail',\n",
       "  'generate_cypher',\n",
       "  'validate_cypher',\n",
       "  'correct_cypher',\n",
       "  'validate_cypher',\n",
       "  'correct_cypher',\n",
       "  'validate_cypher',\n",
       "  'correct_cypher',\n",
       "  'validate_cypher',\n",
       "  'correct_cypher',\n",
       "  'validate_cypher',\n",
       "  'execute_cypher',\n",
       "  'generate_final_answer'],\n",
       " 'cypher_statement': 'MATCH (a:Person)-[:ACTED_IN]->(m:Movie) \\nWITH a, COUNT(DISTINCT m) AS movieCount, COLLECT(DISTINCT m.released) AS releaseYears \\nORDER BY movieCount DESC \\nLIMIT 1 \\nWITH a, movieCount, size(releaseYears) AS activeYears \\nRETURN movieCount / toFloat(activeYears) AS avgMoviesPerYear'}"
      ]
     },
     "execution_count": 25,
     "metadata": {},
     "output_type": "execute_result"
    }
   ],
   "source": [
    "langgraph.invoke({\"question\": \"AVERAGE NUMBER OF MOVIES PER YEAR BY THE ACTOR WHO HAS ACTED IN THE MOST MOVIES\"})"
   ]
  },
  {
   "cell_type": "code",
   "execution_count": null,
   "metadata": {},
   "outputs": [],
   "source": []
  }
 ],
 "metadata": {
  "kernelspec": {
   "display_name": "env311",
   "language": "python",
   "name": "python3"
  },
  "language_info": {
   "codemirror_mode": {
    "name": "ipython",
    "version": 3
   },
   "file_extension": ".py",
   "mimetype": "text/x-python",
   "name": "python",
   "nbconvert_exporter": "python",
   "pygments_lexer": "ipython3",
   "version": "3.11.11"
  }
 },
 "nbformat": 4,
 "nbformat_minor": 2
}

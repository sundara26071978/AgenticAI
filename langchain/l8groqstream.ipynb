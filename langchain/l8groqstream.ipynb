{
 "cells": [
  {
   "cell_type": "markdown",
   "metadata": {},
   "source": [
    "# stream chat model responses"
   ]
  },
  {
   "cell_type": "code",
   "execution_count": 6,
   "metadata": {},
   "outputs": [],
   "source": [
    "\n",
    "import os\n",
    "from dotenv import load_dotenv\n",
    "load_dotenv()\n",
    "\n",
    "os.environ[\"GROQ_API_KEY\"]=os.getenv(\"GROQ_API_KEY\")\n",
    "\n"
   ]
  },
  {
   "cell_type": "code",
   "execution_count": 1,
   "metadata": {},
   "outputs": [],
   "source": [
    "from langchain_groq import ChatGroq\n",
    "\n",
    "llm = ChatGroq(model=\"llama3-8b-8192\")\n",
    "\n"
   ]
  },
  {
   "cell_type": "markdown",
   "metadata": {},
   "source": [
    "## Sync streaming"
   ]
  },
  {
   "cell_type": "code",
   "execution_count": 2,
   "metadata": {},
   "outputs": [
    {
     "name": "stdout",
     "output_type": "stream",
     "text": [
      "|Here|'s| a| |1|-|verse| song| about| gold|fish| on| the| moon|:\n",
      "\n",
      "|\"On| the| lunar| surface| so| bright|,\n",
      "|A| school| of| gold|fish| swim| through| the| night|,\n",
      "|Their| scales| shimmer|ing| like| stars| up| high|,\n",
      "|As| they| dart| and| dance|,| beneath| the| moon|'s| sigh|\"||"
     ]
    }
   ],
   "source": [
    "for chunk in llm.stream(\"Write me a 1 verse song about goldfish on the moon\"):\n",
    "    print(chunk.content, end=\"|\", flush=True)"
   ]
  },
  {
   "cell_type": "markdown",
   "metadata": {},
   "source": [
    "## ASync streaming"
   ]
  },
  {
   "cell_type": "code",
   "execution_count": 3,
   "metadata": {},
   "outputs": [
    {
     "name": "stdout",
     "output_type": "stream",
     "text": [
      "|Here| is| a| |1|-|verse| song| about| gold|fish| on| the| moon|:\n",
      "\n",
      "|\"In| the| lunar| lake|,| where| the| cr|aters| glow| bright|\n",
      "|A| school| of| gold|fish| swim|,| in| the| moon|'s| pale| light|\n",
      "|Their| scales| shimmer| silver|,| as| they| dart| and| they| play|\n",
      "|The| only| aquatic| life|,| in| the| moon|'s| distant| bay|\"||"
     ]
    }
   ],
   "source": [
    "async for chunk in llm.astream(\"Write me a 1 verse song about goldfish on the moon\"):\n",
    "    print(chunk.content, end=\"|\", flush=True)"
   ]
  },
  {
   "cell_type": "markdown",
   "metadata": {},
   "source": [
    "## Astream events"
   ]
  },
  {
   "cell_type": "code",
   "execution_count": 4,
   "metadata": {},
   "outputs": [
    {
     "name": "stdout",
     "output_type": "stream",
     "text": [
      "{'event': 'on_chat_model_start', 'run_id': '768f56b9-32e9-4fe5-ae49-e2585f24c833', 'name': 'ChatGroq', 'tags': [], 'metadata': {}, 'data': {'input': 'Write me a 1 verse song about goldfish on the moon'}, 'parent_ids': []}\n",
      "{'event': 'on_chat_model_stream', 'run_id': '768f56b9-32e9-4fe5-ae49-e2585f24c833', 'tags': [], 'metadata': {}, 'name': 'ChatGroq', 'data': {'chunk': AIMessageChunk(content='', additional_kwargs={}, response_metadata={}, id='run-768f56b9-32e9-4fe5-ae49-e2585f24c833')}, 'parent_ids': []}\n",
      "{'event': 'on_chat_model_stream', 'run_id': '768f56b9-32e9-4fe5-ae49-e2585f24c833', 'tags': [], 'metadata': {}, 'name': 'ChatGroq', 'data': {'chunk': AIMessageChunk(content='Here', additional_kwargs={}, response_metadata={}, id='run-768f56b9-32e9-4fe5-ae49-e2585f24c833')}, 'parent_ids': []}\n",
      "{'event': 'on_chat_model_stream', 'run_id': '768f56b9-32e9-4fe5-ae49-e2585f24c833', 'tags': [], 'metadata': {}, 'name': 'ChatGroq', 'data': {'chunk': AIMessageChunk(content=' is', additional_kwargs={}, response_metadata={}, id='run-768f56b9-32e9-4fe5-ae49-e2585f24c833')}, 'parent_ids': []}\n",
      "...Truncated\n"
     ]
    }
   ],
   "source": [
    "idx = 0\n",
    "\n",
    "async for event in llm.astream_events(\n",
    "    \"Write me a 1 verse song about goldfish on the moon\", version=\"v1\"\n",
    "):\n",
    "    idx += 1\n",
    "    if idx >= 5:  # Truncate the output\n",
    "        print(\"...Truncated\")\n",
    "        break\n",
    "    print(event)"
   ]
  },
  {
   "cell_type": "code",
   "execution_count": 6,
   "metadata": {},
   "outputs": [],
   "source": [
    "response = llm.invoke(\"Write me a 1 verse song about goldfish on the moon\")"
   ]
  },
  {
   "cell_type": "code",
   "execution_count": 8,
   "metadata": {},
   "outputs": [
    {
     "data": {
      "text/plain": [
       "{'input_tokens': 23, 'output_tokens': 30, 'total_tokens': 53}"
      ]
     },
     "execution_count": 8,
     "metadata": {},
     "output_type": "execute_result"
    }
   ],
   "source": [
    "response.usage_metadata"
   ]
  },
  {
   "cell_type": "code",
   "execution_count": null,
   "metadata": {},
   "outputs": [],
   "source": []
  }
 ],
 "metadata": {
  "kernelspec": {
   "display_name": "env310finrobot",
   "language": "python",
   "name": "python3"
  },
  "language_info": {
   "codemirror_mode": {
    "name": "ipython",
    "version": 3
   },
   "file_extension": ".py",
   "mimetype": "text/x-python",
   "name": "python",
   "nbconvert_exporter": "python",
   "pygments_lexer": "ipython3",
   "version": "3.10.16"
  }
 },
 "nbformat": 4,
 "nbformat_minor": 2
}

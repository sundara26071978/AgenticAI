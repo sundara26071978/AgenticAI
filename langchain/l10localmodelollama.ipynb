{
 "cells": [
  {
   "cell_type": "code",
   "execution_count": 1,
   "metadata": {},
   "outputs": [
    {
     "name": "stdout",
     "output_type": "stream",
     "text": [
      "Note: you may need to restart the kernel to use updated packages.\n"
     ]
    }
   ],
   "source": [
    "#%pip install -qU langchain_ollama"
   ]
  },
  {
   "cell_type": "code",
   "execution_count": 1,
   "metadata": {},
   "outputs": [
    {
     "data": {
      "text/plain": [
       "'Neil Armstrong! He stepped out of the lunar module Eagle and onto the moon\\'s surface on July 20, 1969, during the Apollo 11 mission. Armstrong famously declared, \"That\\'s one small step for man, one giant leap for mankind,\" as he became the first person to set foot on the moon.'"
      ]
     },
     "execution_count": 1,
     "metadata": {},
     "output_type": "execute_result"
    }
   ],
   "source": [
    "from langchain_ollama import OllamaLLM\n",
    "\n",
    "llm = OllamaLLM(model=\"llama3:8b\")\n",
    "\n",
    "llm.invoke(\"The first man on the moon was ...\")"
   ]
  },
  {
   "cell_type": "code",
   "execution_count": 2,
   "metadata": {},
   "outputs": [
    {
     "name": "stdout",
     "output_type": "stream",
     "text": [
      "A| classic| one|!\n",
      "\n",
      "|The| first| humans| to| walk| on| the| Moon| were| Neil| Armstrong| and| Edwin| \"|Buzz|\"| Ald|rin|.| They| landed| on| July| |20|,| |196|9|,| as| part| of| the| Apollo| |11| mission|.\n",
      "\n",
      "|Neil| Armstrong| stepped| out| of| the| lunar| module| Eagle| and| onto| the| Moon|'s| surface| at| |2|:|56| UTC| on| July| |21|,| famously| declaring|,| \"|That|'s| one| small| step| for| man|,| one| giant| leap| for| mankind|\"| as| he| took| his| first| steps|.\n",
      "\n",
      "|Buzz| Ald|rin| joined| him| on| the| surface| shortly| afterwards|.| The| third| member| of| the| Apollo| |11| crew|,| Michael| Collins|,| remained| in| orbit| around| the| Moon| in| the| command| module| Columbia|.||"
     ]
    }
   ],
   "source": [
    "for chunk in llm.stream(\"The first man on the moon was ...\"):\n",
    "    print(chunk, end=\"|\", flush=True)"
   ]
  },
  {
   "cell_type": "markdown",
   "metadata": {},
   "source": [
    "Ollama also includes a chat model wrapper that handles formatting conversation turns:\n",
    "\n"
   ]
  },
  {
   "cell_type": "code",
   "execution_count": 3,
   "metadata": {},
   "outputs": [
    {
     "data": {
      "text/plain": [
       "AIMessage(content='The first humans to walk on the Moon were Neil Armstrong and Edwin \"Buzz\" Aldrin. They landed on July 20, 1969, as part of the Apollo 11 mission.\\n\\nNeil Armstrong, an American astronaut and engineer, stepped out of the lunar module Eagle and onto the Moon\\'s surface at 2:56 UTC on July 21, 1969. He famously declared, \"That\\'s one small step for man, one giant leap for mankind,\" as he became the first person to set foot on another celestial body.\\n\\nBuzz Aldrin joined Armstrong outside the spacecraft about 20 minutes later. The two astronauts spent about two and a half hours on the Moon\\'s surface, collecting samples and conducting experiments.\\n\\nThe Apollo 11 mission was a historic achievement that marked the first time humans had visited another celestial body. It was a major milestone in space exploration and paved the way for future missions to the Moon and beyond.', additional_kwargs={}, response_metadata={'model': 'llama3:8b', 'created_at': '2025-02-02T15:19:11.43322Z', 'done': True, 'done_reason': 'stop', 'total_duration': 124177763702, 'load_duration': 42372750, 'prompt_eval_count': 19, 'prompt_eval_duration': 2641000000, 'eval_count': 188, 'eval_duration': 121489000000, 'message': Message(role='assistant', content='', images=None, tool_calls=None)}, id='run-6f73a3aa-cb87-4f5e-b3aa-5dbd40a3e1a4-0', usage_metadata={'input_tokens': 19, 'output_tokens': 188, 'total_tokens': 207})"
      ]
     },
     "execution_count": 3,
     "metadata": {},
     "output_type": "execute_result"
    }
   ],
   "source": [
    "from langchain_ollama import ChatOllama\n",
    "\n",
    "chat_model = ChatOllama(model=\"llama3:8b\")\n",
    "\n",
    "chat_model.invoke(\"Who was the first man on the moon?\")"
   ]
  },
  {
   "cell_type": "code",
   "execution_count": null,
   "metadata": {},
   "outputs": [],
   "source": []
  }
 ],
 "metadata": {
  "kernelspec": {
   "display_name": "Python 3",
   "language": "python",
   "name": "python3"
  },
  "language_info": {
   "codemirror_mode": {
    "name": "ipython",
    "version": 3
   },
   "file_extension": ".py",
   "mimetype": "text/x-python",
   "name": "python",
   "nbconvert_exporter": "python",
   "pygments_lexer": "ipython3",
   "version": "3.12.8"
  }
 },
 "nbformat": 4,
 "nbformat_minor": 2
}

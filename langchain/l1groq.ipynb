{
 "cells": [
  {
   "cell_type": "markdown",
   "metadata": {},
   "source": [
    "## PROD MODELS\n",
    "distil-whisper-large-v3-en\n",
    "\t\n",
    "gemma2-9b-it\n",
    "\n",
    "llama-3.3-70b-versatile\n",
    "\n",
    "llama-3.1-8b-instant\n",
    "\n",
    "llama-guard-3-8b\n",
    "\n",
    "llama3-70b-8192\t\n",
    "\n",
    "llama3-8b-8192\n",
    "\n",
    "mixtral-8x7b-32768\n",
    "\n",
    "whisper-large-v3\n",
    "\n",
    "whisper-large-v3-turbo\n",
    "\n",
    "## PREVIEW MODELS\n",
    "deepseek-r1-distill-llama-70b\t\n",
    "\n",
    "llama-3.3-70b-specdec\n",
    "\n",
    "llama-3.2-1b-preview\n",
    "\n",
    "llama-3.2-3b-preview\n",
    "\n",
    "llama-3.2-11b-vision-preview\n",
    "\n",
    "llama-3.2-90b-vision-preview"
   ]
  },
  {
   "cell_type": "code",
   "execution_count": 6,
   "metadata": {},
   "outputs": [],
   "source": [
    "\n",
    "import os\n",
    "from dotenv import load_dotenv\n",
    "load_dotenv()\n",
    "\n",
    "os.environ[\"GROQ_API_KEY\"]=os.getenv(\"GROQ_API_KEY\")\n",
    "\n"
   ]
  },
  {
   "cell_type": "code",
   "execution_count": 7,
   "metadata": {},
   "outputs": [
    {
     "data": {
      "text/plain": [
       "AIMessage(content=\"Hello! I'm just a language model, so I don't have emotions or feelings like humans do. However, I'm functioning properly and ready to assist you with any questions or tasks you may have. How can I help you today?\", additional_kwargs={}, response_metadata={'token_usage': {'completion_tokens': 49, 'prompt_tokens': 16, 'total_tokens': 65, 'completion_time': 0.040833333, 'prompt_time': 0.001740509, 'queue_time': 0.02311901, 'total_time': 0.042573842}, 'model_name': 'llama3-8b-8192', 'system_fingerprint': 'fp_179b0f92c9', 'finish_reason': 'stop', 'logprobs': None}, id='run-b9eec516-d4a5-41e3-8a94-50d3e530fea2-0', usage_metadata={'input_tokens': 16, 'output_tokens': 49, 'total_tokens': 65})"
      ]
     },
     "execution_count": 7,
     "metadata": {},
     "output_type": "execute_result"
    }
   ],
   "source": [
    "from langchain_groq import ChatGroq\n",
    "\n",
    "llm = ChatGroq(model=\"llama3-8b-8192\")\n",
    "\n",
    "llm.invoke(\"Hello, how are you?\")"
   ]
  },
  {
   "cell_type": "code",
   "execution_count": null,
   "metadata": {},
   "outputs": [],
   "source": []
  }
 ],
 "metadata": {
  "kernelspec": {
   "display_name": "env310finrobot",
   "language": "python",
   "name": "python3"
  },
  "language_info": {
   "codemirror_mode": {
    "name": "ipython",
    "version": 3
   },
   "file_extension": ".py",
   "mimetype": "text/x-python",
   "name": "python",
   "nbconvert_exporter": "python",
   "pygments_lexer": "ipython3",
   "version": "3.12.8"
  }
 },
 "nbformat": 4,
 "nbformat_minor": 2
}

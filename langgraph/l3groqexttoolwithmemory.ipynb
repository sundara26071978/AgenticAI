{
 "cells": [
  {
   "cell_type": "markdown",
   "metadata": {},
   "source": [
    "### PROD MODELS\n",
    "distil-whisper-large-v3-en, gemma2-9b-it, llama-3.3-70b-versatile, llama-3.1-8b-instant, llama-guard-3-8b, llama3-70b-8192, llama3-8b-8192\n",
    "mixtral-8x7b-32768, whisper-large-v3,whisper-large-v3-turbo\n",
    "### PREVIEW MODELS\n",
    "deepseek-r1-distill-llama-70b, llama-3.3-70b-specdec, llama-3.2-1b-preview, llama-3.2-3b-preview, llama-3.2-11b-vision-preview, llama-3.2-90b-vision-preview"
   ]
  },
  {
   "cell_type": "code",
   "execution_count": 1,
   "metadata": {},
   "outputs": [],
   "source": [
    "\n",
    "import os\n",
    "from dotenv import load_dotenv\n",
    "load_dotenv()\n",
    "\n",
    "os.environ[\"GROQ_API_KEY\"]=os.getenv(\"GROQ_API_KEY\")\n",
    "os.environ[\"TAVILY_API_KEY\"] = os.getenv(\"TAVILY_API_KEY\")\n",
    "\n",
    "\n",
    "\n"
   ]
  },
  {
   "cell_type": "code",
   "execution_count": 2,
   "metadata": {},
   "outputs": [
    {
     "data": {
      "text/plain": [
       "[{'url': 'https://langchain-ai.github.io/langgraph/concepts/low_level/',\n",
       "  'content': \"LangGraph's underlying graph algorithm uses message passing to define a general program. When a Node completes its operation, it sends messages along one or more edges to other node (s). These recipient nodes then execute their functions, pass the resulting messages to the next set of nodes, and the process continues.\"},\n",
       " {'url': 'https://medium.com/@vivekvjnk/langgraph-basics-understanding-state-schema-nodes-and-edges-77f2fd17cae5',\n",
       "  'content': 'LangGraph Basics: Understanding State, Schema, Nodes, and Edges | by Story_Teller | Dec, 2024 | Medium LangGraph Basics: Understanding State, Schema, Nodes, and Edges LangGraph Basics: Understanding State, Schema, Nodes, and Edges These predefined structures in the messaging app are synonymous with the schema of the state in LangGraph. Just as a messaging app ensures all interactions (messages) follow a consistent format, the schema in LangGraph ensures the state passed along edges is structured and interpretable. This static schema allows nodes to rely on a consistent state format, ensuring seamless communication along edges throughout the graph. In this article, we explored the foundational concepts of graph-based systems, drawing parallels to familiar messaging applications to illustrate how edges, nodes, and state transitions function seamlessly in dynamic workflows.'}]"
      ]
     },
     "execution_count": 2,
     "metadata": {},
     "output_type": "execute_result"
    }
   ],
   "source": [
    "from langchain_community.tools.tavily_search import TavilySearchResults\n",
    "\n",
    "tool = TavilySearchResults(max_results=2)\n",
    "tools = [tool]\n",
    "tool.invoke(\"What's a 'node' in LangGraph?\")"
   ]
  },
  {
   "cell_type": "code",
   "execution_count": 3,
   "metadata": {},
   "outputs": [],
   "source": [
    "from langchain_groq import ChatGroq\n",
    "\n",
    "llm = ChatGroq(model=\"llama3-8b-8192\")\n",
    "\n",
    "llm_with_tool = llm.bind_tools(tools)"
   ]
  },
  {
   "cell_type": "code",
   "execution_count": 4,
   "metadata": {},
   "outputs": [],
   "source": [
    "from langgraph.checkpoint.memory import MemorySaver\n",
    "\n",
    "memory = MemorySaver()"
   ]
  },
  {
   "cell_type": "code",
   "execution_count": 5,
   "metadata": {},
   "outputs": [],
   "source": [
    "from typing import Annotated\n",
    "\n",
    "from typing_extensions import TypedDict\n",
    "\n",
    "from langgraph.graph import StateGraph, START, END\n",
    "from langgraph.graph.message import add_messages\n",
    "\n",
    "\n",
    "class State(TypedDict):\n",
    "    # Messages have the type \"list\". The `add_messages` function\n",
    "    # in the annotation defines how this state key should be updated\n",
    "    # (in this case, it appends messages to the list, rather than overwriting them)\n",
    "    messages: Annotated[list, add_messages]\n",
    "\n"
   ]
  },
  {
   "cell_type": "code",
   "execution_count": 6,
   "metadata": {},
   "outputs": [],
   "source": [
    "\n",
    "graph_builder = StateGraph(State)"
   ]
  },
  {
   "cell_type": "code",
   "execution_count": 7,
   "metadata": {},
   "outputs": [],
   "source": [
    "\n",
    "def chatbot(state: State):\n",
    "    return {\"messages\": [llm_with_tool.invoke(state[\"messages\"])]}\n"
   ]
  },
  {
   "cell_type": "code",
   "execution_count": 8,
   "metadata": {},
   "outputs": [
    {
     "data": {
      "text/plain": [
       "<langgraph.graph.state.StateGraph at 0x10cab4d70>"
      ]
     },
     "execution_count": 8,
     "metadata": {},
     "output_type": "execute_result"
    }
   ],
   "source": [
    "\n",
    "\n",
    "# The first argument is the unique node name\n",
    "# The second argument is the function or object that will be called whenever\n",
    "# the node is used.\n",
    "graph_builder.add_node(\"chatbot\", chatbot)\n"
   ]
  },
  {
   "cell_type": "code",
   "execution_count": 9,
   "metadata": {},
   "outputs": [
    {
     "data": {
      "text/plain": [
       "<langgraph.graph.state.StateGraph at 0x10cab4d70>"
      ]
     },
     "execution_count": 9,
     "metadata": {},
     "output_type": "execute_result"
    }
   ],
   "source": [
    "import json\n",
    "\n",
    "from langchain_core.messages import ToolMessage\n",
    "\n",
    "\n",
    "class BasicToolNode:\n",
    "    \"\"\"A node that runs the tools requested in the last AIMessage.\"\"\"\n",
    "\n",
    "    def __init__(self, tools: list) -> None:\n",
    "        self.tools_by_name = {tool.name: tool for tool in tools}\n",
    "\n",
    "    def __call__(self, inputs: dict):\n",
    "        if messages := inputs.get(\"messages\", []):\n",
    "            message = messages[-1]\n",
    "        else:\n",
    "            raise ValueError(\"No message found in input\")\n",
    "        outputs = []\n",
    "        for tool_call in message.tool_calls:\n",
    "            tool_result = self.tools_by_name[tool_call[\"name\"]].invoke(\n",
    "                tool_call[\"args\"]\n",
    "            )\n",
    "            outputs.append(\n",
    "                ToolMessage(\n",
    "                    content=json.dumps(tool_result),\n",
    "                    name=tool_call[\"name\"],\n",
    "                    tool_call_id=tool_call[\"id\"],\n",
    "                )\n",
    "            )\n",
    "        return {\"messages\": outputs}\n",
    "\n",
    "\n",
    "tool_node = BasicToolNode(tools=[tool])\n",
    "graph_builder.add_node(\"tools\", tool_node)"
   ]
  },
  {
   "cell_type": "code",
   "execution_count": 10,
   "metadata": {},
   "outputs": [],
   "source": [
    "def route_tools(\n",
    "    state: State,\n",
    "):\n",
    "    \"\"\"\n",
    "    Use in the conditional_edge to route to the ToolNode if the last message\n",
    "    has tool calls. Otherwise, route to the end.\n",
    "    \"\"\"\n",
    "    if isinstance(state, list):\n",
    "        ai_message = state[-1]\n",
    "    elif messages := state.get(\"messages\", []):\n",
    "        ai_message = messages[-1]\n",
    "    else:\n",
    "        raise ValueError(f\"No messages found in input state to tool_edge: {state}\")\n",
    "    if hasattr(ai_message, \"tool_calls\") and len(ai_message.tool_calls) > 0:\n",
    "        return \"tools\"\n",
    "    return END\n",
    "\n",
    "\n",
    "# The `tools_condition` function returns \"tools\" if the chatbot asks to use a tool, and \"END\" if\n",
    "# it is fine directly responding. This conditional routing defines the main agent loop.\n",
    "graph_builder.add_conditional_edges(\n",
    "    \"chatbot\",\n",
    "    route_tools,\n",
    "    # The following dictionary lets you tell the graph to interpret the condition's outputs as a specific node\n",
    "    # It defaults to the identity function, but if you\n",
    "    # want to use a node named something else apart from \"tools\",\n",
    "    # You can update the value of the dictionary to something else\n",
    "    # e.g., \"tools\": \"my_tools\"\n",
    "    {\"tools\": \"tools\", END: END},\n",
    ")\n",
    "# Any time a tool is called, we return to the chatbot to decide the next step\n",
    "graph_builder.add_edge(\"tools\", \"chatbot\")\n",
    "graph_builder.add_edge(START, \"chatbot\")\n",
    "graph = graph_builder.compile(checkpointer=memory)"
   ]
  },
  {
   "cell_type": "code",
   "execution_count": 11,
   "metadata": {},
   "outputs": [
    {
     "data": {
      "image/png": "[encoded data removed]",
      "text/plain": [
       "<IPython.core.display.Image object>"
      ]
     },
     "metadata": {},
     "output_type": "display_data"
    }
   ],
   "source": [
    "from IPython.display import Image, display\n",
    "\n",
    "try:\n",
    "    display(Image(graph.get_graph().draw_mermaid_png()))\n",
    "except Exception:\n",
    "    # This requires some extra dependencies and is optional\n",
    "    pass"
   ]
  },
  {
   "cell_type": "code",
   "execution_count": 17,
   "metadata": {},
   "outputs": [],
   "source": [
    "def stream_graph_updates(user_input: str):\n",
    "    for event in graph.stream({\"messages\": [{\"role\": \"user\", \"content\": user_input}]}):\n",
    "        for value in event.values():\n",
    "            print(\"Assistant:\", value[\"messages\"][-1].content)\n"
   ]
  },
  {
   "cell_type": "code",
   "execution_count": 12,
   "metadata": {},
   "outputs": [],
   "source": [
    "config = {\"configurable\": {\"thread_id\": \"1\"}}"
   ]
  },
  {
   "cell_type": "code",
   "execution_count": 13,
   "metadata": {},
   "outputs": [
    {
     "name": "stdout",
     "output_type": "stream",
     "text": [
      "================================\u001b[1m Human Message \u001b[0m=================================\n",
      "\n",
      "Hi there! My name is Will.\n",
      "==================================\u001b[1m Ai Message \u001b[0m==================================\n",
      "\n",
      "Nice to meet you, Will!\n"
     ]
    }
   ],
   "source": [
    "user_input = \"Hi there! My name is Will.\"\n",
    "\n",
    "# The config is the **second positional argument** to stream() or invoke()!\n",
    "events = graph.stream(\n",
    "    {\"messages\": [{\"role\": \"user\", \"content\": user_input}]},\n",
    "    config,\n",
    "    stream_mode=\"values\",\n",
    ")\n",
    "for event in events:\n",
    "    event[\"messages\"][-1].pretty_print()"
   ]
  },
  {
   "cell_type": "code",
   "execution_count": 14,
   "metadata": {},
   "outputs": [
    {
     "name": "stdout",
     "output_type": "stream",
     "text": [
      "================================\u001b[1m Human Message \u001b[0m=================================\n",
      "\n",
      "Remember my name?\n",
      "==================================\u001b[1m Ai Message \u001b[0m==================================\n",
      "\n",
      "Nice to meet you, Will!\n"
     ]
    }
   ],
   "source": [
    "user_input = \"Remember my name?\"\n",
    "\n",
    "# The config is the **second positional argument** to stream() or invoke()!\n",
    "events = graph.stream(\n",
    "    {\"messages\": [{\"role\": \"user\", \"content\": user_input}]},\n",
    "    config,\n",
    "    stream_mode=\"values\",\n",
    ")\n",
    "for event in events:\n",
    "    event[\"messages\"][-1].pretty_print()"
   ]
  },
  {
   "cell_type": "code",
   "execution_count": 17,
   "metadata": {},
   "outputs": [
    {
     "name": "stdout",
     "output_type": "stream",
     "text": [
      "================================\u001b[1m Human Message \u001b[0m=================================\n",
      "\n",
      "Remember my name?\n",
      "==================================\u001b[1m Ai Message \u001b[0m==================================\n",
      "\n",
      "I'm not familiar with your name.\n"
     ]
    }
   ],
   "source": [
    "# The only difference is we change the `thread_id` here to \"2\" instead of \"1\"\n",
    "events = graph.stream(\n",
    "    {\"messages\": [{\"role\": \"user\", \"content\": user_input}]},\n",
    "    {\"configurable\": {\"thread_id\": \"2\"}},\n",
    "    stream_mode=\"values\",\n",
    ")\n",
    "for event in events:\n",
    "    event[\"messages\"][-1].pretty_print()"
   ]
  },
  {
   "cell_type": "code",
   "execution_count": 18,
   "metadata": {},
   "outputs": [
    {
     "data": {
      "text/plain": [
       "StateSnapshot(values={'messages': [HumanMessage(content='Hi there! My name is Will.', additional_kwargs={}, response_metadata={}, id='a570f55d-7769-4641-a0a3-0acda2d07131'), AIMessage(content='Nice to meet you, Will!', additional_kwargs={}, response_metadata={'token_usage': {'completion_tokens': 8, 'prompt_tokens': 947, 'total_tokens': 955, 'completion_time': 0.006666667, 'prompt_time': 0.120911113, 'queue_time': 0.033872741, 'total_time': 0.12757778}, 'model_name': 'llama3-8b-8192', 'system_fingerprint': 'fp_6a6771ae9c', 'finish_reason': 'stop', 'logprobs': None}, id='run-06c2b1ec-bfe3-4601-a15b-2d3755ad29ca-0', usage_metadata={'input_tokens': 947, 'output_tokens': 8, 'total_tokens': 955}), HumanMessage(content='Remember my name?', additional_kwargs={}, response_metadata={}, id='1ef8c442-0131-48c4-846d-53070054d5c0'), AIMessage(content='Nice to meet you, Will!', additional_kwargs={}, response_metadata={'token_usage': {'completion_tokens': 8, 'prompt_tokens': 1956, 'total_tokens': 1964, 'completion_time': 0.006666667, 'prompt_time': 0.236817801, 'queue_time': -0.291631892, 'total_time': 0.243484468}, 'model_name': 'llama3-8b-8192', 'system_fingerprint': 'fp_6a6771ae9c', 'finish_reason': 'stop', 'logprobs': None}, id='run-d7f1e6f2-b856-44d2-8d70-1a457793c49c-0', usage_metadata={'input_tokens': 1956, 'output_tokens': 8, 'total_tokens': 1964}), HumanMessage(content='Remember my name?', additional_kwargs={}, response_metadata={}, id='df03f222-8d5e-4ee3-bd00-eba1f7d7f789'), AIMessage(content='I remember your name, Will.', additional_kwargs={}, response_metadata={'token_usage': {'completion_tokens': 8, 'prompt_tokens': 1998, 'total_tokens': 2006, 'completion_time': 0.006666667, 'prompt_time': 0.238210027, 'queue_time': -0.273830884, 'total_time': 0.244876694}, 'model_name': 'llama3-8b-8192', 'system_fingerprint': 'fp_a97cfe35ae', 'finish_reason': 'stop', 'logprobs': None}, id='run-f211f1fc-1e3c-403b-9414-4734e863c938-0', usage_metadata={'input_tokens': 1998, 'output_tokens': 8, 'total_tokens': 2006})]}, next=(), config={'configurable': {'thread_id': '1', 'checkpoint_ns': '', 'checkpoint_id': '1efe290d-f29e-623c-8007-897fe15c66ab'}}, metadata={'source': 'loop', 'writes': {'chatbot': {'messages': [AIMessage(content='I remember your name, Will.', additional_kwargs={}, response_metadata={'token_usage': {'completion_tokens': 8, 'prompt_tokens': 1998, 'total_tokens': 2006, 'completion_time': 0.006666667, 'prompt_time': 0.238210027, 'queue_time': -0.273830884, 'total_time': 0.244876694}, 'model_name': 'llama3-8b-8192', 'system_fingerprint': 'fp_a97cfe35ae', 'finish_reason': 'stop', 'logprobs': None}, id='run-f211f1fc-1e3c-403b-9414-4734e863c938-0', usage_metadata={'input_tokens': 1998, 'output_tokens': 8, 'total_tokens': 2006})]}}, 'thread_id': '1', 'step': 7, 'parents': {}}, created_at='2025-02-04T00:42:11.900642+00:00', parent_config={'configurable': {'thread_id': '1', 'checkpoint_ns': '', 'checkpoint_id': '1efe290d-ea6e-6210-8006-834728463a32'}}, tasks=())"
      ]
     },
     "execution_count": 18,
     "metadata": {},
     "output_type": "execute_result"
    }
   ],
   "source": [
    "snapshot = graph.get_state(config)\n",
    "snapshot"
   ]
  },
  {
   "cell_type": "code",
   "execution_count": 19,
   "metadata": {},
   "outputs": [
    {
     "data": {
      "text/plain": [
       "()"
      ]
     },
     "execution_count": 19,
     "metadata": {},
     "output_type": "execute_result"
    }
   ],
   "source": [
    "snapshot.next"
   ]
  },
  {
   "cell_type": "code",
   "execution_count": 18,
   "metadata": {},
   "outputs": [
    {
     "name": "stdout",
     "output_type": "stream",
     "text": [
      "Assistant: \n",
      "Assistant: [{\"url\": \"https://www.cs.umd.edu/class/fall2018/cmsc657/projects/group_16.pdf\", \"content\": \"Introduction Quantum Approximation Optimization Algorithm (QAOA) is one of the algorithms that can be implemented in the near-term quantum computer and regarded as one of the most promising algorithms to demonstrate quantum supremacy. QAOA is an approximation algorithm which means it does not deliver the `best' result, but only the `good enough' result, which is characterized by a lower bound\"}, {\"url\": \"https://arxiv.org/pdf/2306.09198\", \"content\": \"The Quantum Approximate Optimization Algorithm (QAOA) is a highly promising variational quantum algorithm that aims to solve combinatorial optimization problems that are classically in-tractable. This comprehensive review ofers an overview of the current state of QAOA, encompassing its performance analysis in diverse scenarios, its applicability across various problem instances, and\"}]\n",
      "Assistant: Based on the provided information, I'll summarize the Quantum Approximation Optimization Algorithm (QAOA) in my own words:\n",
      "\n",
      "QAOA is a quantum algorithm designed to solve complex optimization problems that are difficult to tackle with classical computers. It's an approximation algorithm, meaning it won't always find the optimal solution, but rather a good enough solution that meets a certain threshold.\n",
      "\n",
      "The algorithm involves optimizing a set of parameters to minimize or maximize a target function. This is done by iteratively applying a sequence of quantum gates and measurements, which allows the algorithm to explore a vast solution space.\n",
      "\n",
      "QAOA has been shown to be effective in solving a wide range of problems, including those that are classically intractable. Its performance has been analyzed in various scenarios, and it has been found to be applicable to diverse problem instances.\n",
      "\n",
      "While QAOA is still an active area of research, its potential to demonstrate quantum supremacy and solve complex optimization problems makes it an exciting development in the field of quantum computing.\n",
      "\n",
      "Please note that my response is based on the provided information and may not be a comprehensive or definitive description of the QAOA algorithm.\n",
      "Assistant: \n",
      "Assistant: [{\"url\": \"https://www.jagranjosh.com/general-knowledge/union-budget-2025-26-key-highlights-summary-and-important-points-download-pdf-1738393887-1\", \"content\": \"Budget 2025-26 Highlights: Key Announcements and Major Changes; Download PDF! The Union Budget 2025-26, presented by Finance Minister Nirmala Sitharaman, introduces key reforms in tax policies, infrastructure, healthcare, and agriculture. Budget 2025 Key Highlights:\\u00a0 For latest updates on the Budget 2025, download the official PDF here! With expected changes in tax policies, sector-specific allocations, and initiatives for financial stability, this budget will have a lasting impact on India's development in the coming years. Budget 2025 LIVE Updates: FM Nirmala Sitharaman Speech Start; Check Latest Announcements, Facts and Stats Here  Budget 2025 Tax Slab: Key Tax Slab Changes For Middle Class From New Regime! Education Budget 2025: FM Nirmala Sitharaman Key Announcements for School, Colleges and Others  Budget 2025-26 Highlights: Key Announcements and Major Changes; Download PDF!\"}, {\"url\": \"https://indianexpress.com/article/explained/explained-economics/union-budget-2025-explained-live-updates-nirmala-sitharaman-income-tax-slab-rates-9810268/\", \"content\": \"Budget 2025 Important Points, highlights, LIVE Updates: Income Tax Slabs & Rates for 2025-26 Explained, India Union Budget 2025-26 My Express .Opens in new window Explained .Opens in new window News Union Budget 2025 Explained Live: As Nirmala Sitharaman unveils her 8th Budget, we\\u2019ll break down all key points for you Budget 2025 Highlights, Important Points Explained Live Updates: In this live blog, senior editors for Economy and Business at The Indian Express will provide updates from the Budget speech with an explanation of the provisions and what they mean for you. (Express illustration by Angshuman Maity)Budget 2025 Important Points Explained Live: Union Finance Minister Nirmala Sitharaman on Saturday (February 1) will unveil her eighth consecutive Union Budget.\"}]\n",
      "Assistant: Based on the output from the tool call id \"call_jjt1\", here are the key points on Indian Budget 2025:\n",
      "\n",
      "* The Union Budget 2025-26 introduces key reforms in tax policies, infrastructure, healthcare, and agriculture.\n",
      "* The Budget 2025 Key Highlights include sector-specific allocations, and initiatives for financial stability.\n",
      "* The Budget 2025 Tax Slab: Key Tax Slab Changes For Middle Class From New Regime!\n",
      "* Education Budget 2025: FM Nirmala Sitharaman Key Announcements for School, Colleges and Others.\n",
      "* Budget 2025-26 Highlights: Key Announcements and Major Changes; Download PDF!\n",
      "\n",
      "Note: The output from the tool call id \"call_jjt1\" provides links to articles and news stories that provide more detailed information on the Indian Budget 2025.\n",
      "Assistant: \n",
      "Assistant: [{\"url\": \"https://mahakumbh.in/kumbh-mela-2025-dates-place-events-and-guide/\", \"content\": \"The Maha Kumbh Mela is renowned for its grand religious and cultural events, attracting millions of devotees, spiritual leaders, and curious travellers. While the spiritual bathing in the sacred rivers is the central focus of the Kumbh Mela, the event is a grand celebration that extends far beyond the ritual dips. The Kumbh Mela 2025 at Prayagraj is set to be an unparalleled spiritual experience, drawing millions of pilgrims and travellers to the sacred Triveni Sangam for purification, reflection, and community. From the sacred Shahi Snans to the vibrant cultural performances, the Kumbh Mela offers something profound for everyone, whether you are a devotee seeking spiritual growth or a curious traveller wanting to witness the world\\u2019s largest congregation of faith.\"}, {\"url\": \"https://mahakumbh.in/guide-to-maha-kumbh-mela/\", \"content\": \"The Ultimate Guide to Maha Kumbh Mela 2025: Dates, Rituals, and Must-See Attractions - Maha Kumbh Mela 2025 The Ultimate Guide to Maha Kumbh Mela 2025: Dates, Rituals, and Must-See Attractions Experience the enchanting Maha Kumbh Mela 2025, a grand spiritual gathering held every 12 years. In this comprehensive guide, we will provide you with all the essential information you need to know about the Maha Kumbh Mela 2025, from its important dates to the mesmerizing rituals and must-see attractions. The Maha Kumbh Mela 2025 is an unparalleled spiritual event that unites devotees from all walks of life in a divine embrace of faith and devotion. Have questions about The Ultimate Guide to Maha Kumbh Mela 2025: Dates, Rituals, and Must-See Attractions?\"}]\n",
      "Assistant: The Kumbh Mela 2025 is a grand spiritual gathering that takes place every 12 years. It's a celebration of faith, culture, and spirituality, attracting millions of devotees and curious travelers. The event is centered around the sacred rivers, where devotees take ritual dips for purification and spiritual growth. The 2025 event will be held at Prayagraj and is expected to be an unparalleled spiritual experience.\n",
      "\n",
      "Some of the highlights of the Kumbh Mela 2025 include:\n",
      "\n",
      "* Spiritual bathing in the sacred rivers\n",
      "* Vibrant cultural performances\n",
      "* Sacred Shahi Snans\n",
      "* Community and spiritual growth\n",
      "\n",
      "There are also many attractions and activities to explore, including:\n",
      "\n",
      "* The Triveni Sangam, where the three rivers meet\n",
      "* The Kumbh Mela grounds, with activities and stalls\n",
      "* The various rituals and ceremonies taking place throughout the event\n",
      "\n",
      "Overall, the Kumbh Mela 2025 is an event that promises to be a once-in-a-lifetime experience for those who attend.\n",
      "User: What do you know about LangGraph?\n",
      "Assistant: \n",
      "Assistant: [{\"url\": \"https://langchain-ai.github.io/langgraph/\", \"content\": \"Overview\\u00b6. LangGraph is a library for building stateful, multi-actor applications with LLMs, used to create agent and multi-agent workflows. Check out an introductory tutorial here.. LangGraph is inspired by Pregel and Apache Beam.The public interface draws inspiration from NetworkX.LangGraph is built by LangChain Inc, the creators of LangChain, but can be used without LangChain.\"}, {\"url\": \"https://www.datacamp.com/tutorial/langgraph-tutorial\", \"content\": \"LangGraph is a library within the LangChain ecosystem that simplifies the development of complex, multi-agent large language model (LLM) applications. Learn how to use LangGraph to create stateful, flexible, and scalable systems with nodes, edges, and state management.\"}]\n",
      "Assistant: It seems that LangGraph is a library for building stateful, multi-actor applications with Large Language Models (LLMs), which can be used to create agent and multi-agent workflows. It's built by LangChain Inc, the creators of LangChain.\n",
      "\n",
      "Here's a summary of what I know about LangGraph:\n",
      "\n",
      "* LangGraph is a library for building stateful, multi-actor applications with LLMs.\n",
      "* It's used to create agent and multi-agent workflows.\n",
      "* LangGraph is inspired by Pregel and Apache Beam.\n",
      "* The public interface draws inspiration from NetworkX.\n",
      "* LangGraph is built by LangChain Inc, the creators of LangChain.\n",
      "\n",
      "I'd like to know more about LangGraph and its applications. Could you please provide more information or clarify any specific questions you have about LangGraph?\n"
     ]
    }
   ],
   "source": [
    "\n",
    "while True:\n",
    "    try:\n",
    "        user_input = input(\"User: \")\n",
    "        if user_input.lower() in [\"quit\", \"exit\", \"q\"]:\n",
    "            print(\"Goodbye!\")\n",
    "            break\n",
    "\n",
    "        stream_graph_updates(user_input)\n",
    "    except:\n",
    "        # fallback if input() is not available\n",
    "        user_input = \"What do you know about LangGraph?\"\n",
    "        print(\"User: \" + user_input)\n",
    "        stream_graph_updates(user_input)\n",
    "        break"
   ]
  },
  {
   "cell_type": "code",
   "execution_count": null,
   "metadata": {},
   "outputs": [],
   "source": []
  }
 ],
 "metadata": {
  "kernelspec": {
   "display_name": "env310finrobot",
   "language": "python",
   "name": "python3"
  },
  "language_info": {
   "codemirror_mode": {
    "name": "ipython",
    "version": 3
   },
   "file_extension": ".py",
   "mimetype": "text/x-python",
   "name": "python",
   "nbconvert_exporter": "python",
   "pygments_lexer": "ipython3",
   "version": "3.12.8"
  }
 },
 "nbformat": 4,
 "nbformat_minor": 2
}

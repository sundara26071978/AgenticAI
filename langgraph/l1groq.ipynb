{
 "cells": [
  {
   "cell_type": "markdown",
   "metadata": {},
   "source": [
    "### PROD MODELS\n",
    "distil-whisper-large-v3-en, gemma2-9b-it, llama-3.3-70b-versatile, llama-3.1-8b-instant, llama-guard-3-8b, llama3-70b-8192, llama3-8b-8192\n",
    "mixtral-8x7b-32768, whisper-large-v3,whisper-large-v3-turbo\n",
    "### PREVIEW MODELS\n",
    "deepseek-r1-distill-llama-70b, llama-3.3-70b-specdec, llama-3.2-1b-preview, llama-3.2-3b-preview, llama-3.2-11b-vision-preview, llama-3.2-90b-vision-preview"
   ]
  },
  {
   "cell_type": "code",
   "execution_count": 11,
   "metadata": {},
   "outputs": [],
   "source": [
    "\n",
    "import os\n",
    "from dotenv import load_dotenv\n",
    "load_dotenv()\n",
    "\n",
    "os.environ[\"GROQ_API_KEY\"]=os.getenv(\"GROQ_API_KEY\")\n",
    "\n"
   ]
  },
  {
   "cell_type": "code",
   "execution_count": 12,
   "metadata": {},
   "outputs": [
    {
     "data": {
      "text/plain": [
       "AIMessage(content=\"Hello! I'm just an AI, so I don't have feelings like humans do, but I'm functioning properly and ready to assist you with any questions or tasks you may have. How about you? How's your day going?\", additional_kwargs={}, response_metadata={'token_usage': {'completion_tokens': 48, 'prompt_tokens': 16, 'total_tokens': 64, 'completion_time': 0.04, 'prompt_time': 0.005650789, 'queue_time': 0.08358908599999999, 'total_time': 0.045650789}, 'model_name': 'llama3-8b-8192', 'system_fingerprint': 'fp_179b0f92c9', 'finish_reason': 'stop', 'logprobs': None}, id='run-8a0e45b5-8e23-47b0-a3de-8f4152f1efe2-0', usage_metadata={'input_tokens': 16, 'output_tokens': 48, 'total_tokens': 64})"
      ]
     },
     "execution_count": 12,
     "metadata": {},
     "output_type": "execute_result"
    }
   ],
   "source": [
    "from langchain_groq import ChatGroq\n",
    "\n",
    "llm = ChatGroq(model=\"llama3-8b-8192\")\n",
    "\n",
    "llm.invoke(\"Hello, how are you?\")"
   ]
  },
  {
   "cell_type": "code",
   "execution_count": 13,
   "metadata": {},
   "outputs": [],
   "source": [
    "from typing import Annotated\n",
    "\n",
    "from typing_extensions import TypedDict\n",
    "\n",
    "from langgraph.graph import StateGraph, START, END\n",
    "from langgraph.graph.message import add_messages\n",
    "\n",
    "\n",
    "class State(TypedDict):\n",
    "    # Messages have the type \"list\". The `add_messages` function\n",
    "    # in the annotation defines how this state key should be updated\n",
    "    # (in this case, it appends messages to the list, rather than overwriting them)\n",
    "    messages: Annotated[list, add_messages]\n",
    "\n"
   ]
  },
  {
   "cell_type": "code",
   "execution_count": 14,
   "metadata": {},
   "outputs": [],
   "source": [
    "\n",
    "graph_builder = StateGraph(State)"
   ]
  },
  {
   "cell_type": "code",
   "execution_count": 15,
   "metadata": {},
   "outputs": [],
   "source": [
    "\n",
    "def chatbot(state: State):\n",
    "    return {\"messages\": [llm.invoke(state[\"messages\"])]}\n"
   ]
  },
  {
   "cell_type": "code",
   "execution_count": 16,
   "metadata": {},
   "outputs": [],
   "source": [
    "\n",
    "\n",
    "# The first argument is the unique node name\n",
    "# The second argument is the function or object that will be called whenever\n",
    "# the node is used.\n",
    "graph_builder.add_node(\"chatbot\", chatbot)\n",
    "graph_builder.add_edge(START, \"chatbot\")\n",
    "graph_builder.add_edge(\"chatbot\", END)\n",
    "\n",
    "graph = graph_builder.compile()"
   ]
  },
  {
   "cell_type": "code",
   "execution_count": 17,
   "metadata": {},
   "outputs": [
    {
     "data": {
      "image/png": "[encoded data removed]",
      "text/plain": [
       "<IPython.core.display.Image object>"
      ]
     },
     "metadata": {},
     "output_type": "display_data"
    }
   ],
   "source": [
    "from IPython.display import Image, display\n",
    "\n",
    "try:\n",
    "    display(Image(graph.get_graph().draw_mermaid_png()))\n",
    "except Exception:\n",
    "    # This requires some extra dependencies and is optional\n",
    "    pass"
   ]
  },
  {
   "cell_type": "code",
   "execution_count": 18,
   "metadata": {},
   "outputs": [],
   "source": [
    "def stream_graph_updates(user_input: str):\n",
    "    for event in graph.stream({\"messages\": [{\"role\": \"user\", \"content\": user_input}]}):\n",
    "        for value in event.values():\n",
    "            print(\"Assistant:\", value[\"messages\"][-1].content)\n"
   ]
  },
  {
   "cell_type": "code",
   "execution_count": 19,
   "metadata": {},
   "outputs": [
    {
     "name": "stdout",
     "output_type": "stream",
     "text": [
      "Assistant: QPE can refer to several things, depending on the context:\n",
      "\n",
      "1. **Quantitative Precipitation Estimation**: In meteorology and hydrology, QPE is a technique used to estimate the amount of precipitation (rain, snow, sleet, hail, etc.) that has fallen or is falling at a specific location. QPE is often used to provide accurate and timely information for flood forecasting, water resource management, and other applications.\n",
      "2. **Quantum Process Error**: In quantum computing, QPE is a method used to correct errors that occur during the execution of quantum algorithms. QPE is a crucial component of quantum error correction, as it allows quantum computers to maintain the fragile quantum states required for processing complex calculations.\n",
      "3. **Quality Policy and Excellence**: In the context of quality management, QPE is a framework or system that helps organizations achieve excellence in their products, services, or processes. QPE encompasses various aspects, including quality planning, quality control, and continuous improvement.\n",
      "4. **Quantitative Program Evaluation**: QPE can also refer to a methodology used to evaluate the effectiveness and impact of programs, projects, or initiatives. This may involve quantifying outcomes, assessing performance metrics, and identifying areas for improvement.\n",
      "\n",
      "Without more context, it's difficult to determine which definition is most relevant. If you have any additional information or clarification, I'd be happy to try and provide a more specific answer!\n",
      "Assistant: Quantum phase estimation (QPE) is a quantum algorithm that uses quantum computers to estimate the phase of a complex number. It is a fundamental subroutine in many quantum algorithms, including Shor's algorithm for factoring large numbers and quantum simulation of quantum systems.\n",
      "\n",
      "Given a complex number `z = r exp(iθ)` with `r > 0` and `θ ∈ [0, 2π)`, the goal of QPE is to estimate the phase `θ` with high accuracy. In other words, QPE tries to determine the phase of a complex number to the nearest multiple of `2π/n`, where `n` is a positive integer.\n",
      "\n",
      "QPE is typically performed using a quantum circuit consisting of a sequence of Hadamard gates, phase gates, and measurements. The algorithm can be described as follows:\n",
      "\n",
      "1. Preparation: The quantum computer prepares a superposition of states `|0⟩` and `|1⟩` using a Hadamard gate.\n",
      "2. Encoding: The complex number `z` is encoded onto the quantum states using a phase gate. The phase gate applies a phase shift to the state `|0⟩` proportional to the phase `θ`.\n",
      "3. Application of an unknown unitary: A unknown unitary operator `U` is applied to the encoded state. The unitary `U` can be thought of as a \"black box\" that applies a unknown phase shift to the state.\n",
      "4. Measurement: The quantum state is measured in the `Z` basis, which projects the state onto one of the basis states `|0⟩` or `|1⟩`.\n",
      "5. Error correction: The measurement outcome is corrected using a classical algorithm to estimate the phase `θ`.\n",
      "\n",
      "The beauty of QPE lies in its ability to extract the phase information from the measurement outcome, even when the unitary `U` is unknown. The algorithm achieves this by exploiting the principles of quantum mechanics, such as superposition, entanglement, and interference.\n",
      "\n",
      "QPE has numerous applications in quantum computing, including:\n",
      "\n",
      "1. Quantum simulation: QPE is used to simulate the behavior of quantum systems, such as quantum many-body systems and quantum field theories.\n",
      "2. Quantum cryptographic protocols: QPE is used to implement quantum key distribution protocols, such as BB84 and Ekert's protocol.\n",
      "3. Quantum metrology: QPE is used to improve the precision of quantum measurements, such as in interferometry and spectroscopy.\n",
      "4. Quantum algorithms: QPE is used as a subroutine in many quantum algorithms, including Shor's algorithm and Quantum Approximate Optimization Algorithm (QAOA).\n",
      "\n",
      "The complexity of QPE is measured by its number of quantum gates and the number of qubits required. The algorithm has a polynomial scaling with the number of qubits, making it a promising candidate for large-scale quantum computing applications.\n",
      "Assistant: Quantum Field Theory (QFT) is a powerful framework for describing the behavior of fundamental particles and their interactions. The metrics for using QFT can vary depending on the specific application and context, but here are some general pros and cons to consider:\n",
      "\n",
      "**Pros:**\n",
      "\n",
      "1. **Accuracy**: QFT is incredibly accurate in describing the behavior of particles at high energies, such as those found in particle accelerators.\n",
      "2. **Universality**: QFT is a universal framework that can be applied to a wide range of physical systems, from the smallest subatomic particles to the entire universe.\n",
      "3. **Predictive power**: QFT allows us to make precise predictions about the behavior of particles and their interactions, which has been confirmed by numerous experiments.\n",
      "4. **Conservation laws**: QFT is based on the principles of conservation laws, such as energy-momentum conservation and gauge invariance, which are fundamental to our understanding of the universe.\n",
      "5. **Connection to other theories**: QFT is connected to other fundamental theories, such as General Relativity and String Theory, which provides a deeper understanding of the universe.\n",
      "\n",
      "**Cons:**\n",
      "\n",
      "1. **Mathematical complexity**: QFT is a highly mathematical framework, which can make it difficult to understand and apply, especially for those without a strong background in quantum mechanics and field theory.\n",
      "2. **Infinite self-energy**: QFT predicts that particles have infinite self-energies, which is a problem that has not been fully resolved.\n",
      "3. **Renormalization**: QFT requires the use of renormalization, which is a process that removes infinite self-energies by introducing new counterterms. This can be difficult to implement and requires a good understanding of the underlying mathematics.\n",
      "4. **Limited scope**: QFT is primarily used to describe the behavior of particles at high energies, and its applicability to low-energy phenomena is limited.\n",
      "5. **Lack of experimental evidence**: While QFT has been incredibly successful in describing high-energy phenomena, there is still a lack of direct experimental evidence for some of its predictions, such as the existence of Higgs bosons and neutrinos.\n",
      "\n",
      "**Applications:**\n",
      "\n",
      "1. **Particle physics**: QFT is used to describe the behavior of particles at high energies, such as those found in particle accelerators.\n",
      "2. **Condensed matter physics**: QFT is used to describe the behavior of particles in condensed matter systems, such as superconductors and superfluids.\n",
      "3. **Cosmology**: QFT is used to describe the behavior of particles in the early universe and the formation of structure in the universe.\n",
      "4. **Quantum computing**: QFT is used in the development of quantum computing, where it is used to describe the behavior of quantum systems and the interactions between them.\n",
      "\n",
      "**Open questions:**\n",
      "\n",
      "1. **The problem of infinities**: QFT predicts that particles have infinite self-energies, which is a problem that has not been fully resolved.\n",
      "2. **The hierarchy problem**: QFT predicts that the Higgs boson mass is unstable and should be of the order of the Planck mass, which is a problem that has not been fully resolved.\n",
      "3. **The problem of unitarity**: QFT predicts that the scattering matrix is not unitary, which is a problem that has not been fully resolved.\n",
      "\n",
      "Overall, QFT is a powerful framework that has been incredibly successful in describing the behavior of particles and their interactions. However, it is not without its limitations and challenges, and ongoing research is aimed at resolving some of the open questions and limitations of the theory.\n",
      "Assistant: The Quantum Fourier Transform (QFT) is a fundamental algorithm in quantum computing, and its metrics are crucial for understanding its performance and limitations. Here are some key metrics of the QFT:\n",
      "\n",
      "**Time complexity:**\n",
      "\n",
      "* The QFT has a time complexity of O(n log n), where n is the number of qubits in the input state.\n",
      "* This is a significant improvement over the classical Fourier Transform (FT), which has a time complexity of O(n^2).\n",
      "\n",
      "**Space complexity:**\n",
      "\n",
      "* The QFT requires O(n) qubits to store the input state and the output state.\n",
      "* This is because the QFT requires a separate qubit to store each Fourier coefficient.\n",
      "\n",
      "**Error threshold:**\n",
      "\n",
      "* The QFT is a sensitive algorithm, and any errors in the quantum computations can accumulate and propagate to the output.\n",
      "* The error threshold for the QFT is typically around 10^-4 to 10^-5, which means that the algorithm can tolerate up to 4-5 errors in the 10^4-10^5 qubits involved in the computation.\n",
      "* This error threshold is significantly higher than that of many other quantum algorithms, such as Shor's algorithm or Grover's algorithm.\n",
      "\n",
      "**Scalability:**\n",
      "\n",
      "* The QFT has been successfully implemented on small-scale quantum computers with up to 53 qubits.\n",
      "* However, the QFT is expected to be challenging to scale to larger numbers of qubits, due to the exponential growth of the number of Fourier coefficients as a function of the number of qubits.\n",
      "* Researchers are exploring new algorithms and techniques to improve the scalability of the QFT, such as using quantum error correction codes or approximating the QFT using classical algorithms.\n",
      "\n",
      "**Fidelity:**\n",
      "\n",
      "* The fidelity of the QFT is the measure of how closely the output state of the QFT approximates the ideal output state.\n",
      "* The fidelity of the QFT depends on the quality of the quantum computations, the accuracy of the quantum gates, and the noise levels in the quantum system.\n",
      "* Researchers have reported fidelities of up to 99.9% for the QFT on small-scale quantum computers.\n",
      "\n",
      "**Gate count:**\n",
      "\n",
      "* The QFT requires a large number of quantum gates to implement, typically on the order of 10^3 to 10^4 gates for small-scale implementations.\n",
      "* The gate count of the QFT grows rapidly with the number of qubits, making it challenging to implement on larger-scale quantum computers.\n",
      "* Researchers are exploring new gate-based and analog-based implementations of the QFT to reduce the gate count and improve the scalability of the algorithm.\n",
      "\n",
      "**Applications:**\n",
      "\n",
      "* The QFT has numerous applications in quantum computing, including quantum simulation, quantum machine learning, and quantum cryptography.\n",
      "* The QFT is particularly useful for solving problems that involve periodic or circular structures, such as quantum chemistry and materials science simulations.\n",
      "* The QFT is also being explored for its potential applications in quantum metrology and quantum sensing.\n",
      "\n",
      "These metrics provide a comprehensive understanding of the performance and limitations of the Quantum Fourier Transform, and they are essential for optimizing the algorithm and exploring its applications in various fields.\n",
      "Assistant: It seems like you may have accidentally sent an empty message! If you meant to ask a question or start a conversation, feel free to try again, and I'll do my best to help.\n",
      "Assistant: It seems like you may have accidentally sent an empty message! If you meant to ask a question or start a conversation, feel free to type away, and I'll be happy to help!\n",
      "Goodbye!\n"
     ]
    }
   ],
   "source": [
    "\n",
    "while True:\n",
    "    try:\n",
    "        user_input = input(\"User: \")\n",
    "        if user_input.lower() in [\"quit\", \"exit\", \"q\"]:\n",
    "            print(\"Goodbye!\")\n",
    "            break\n",
    "\n",
    "        stream_graph_updates(user_input)\n",
    "    except:\n",
    "        # fallback if input() is not available\n",
    "        user_input = \"What do you know about LangGraph?\"\n",
    "        print(\"User: \" + user_input)\n",
    "        stream_graph_updates(user_input)\n",
    "        break"
   ]
  },
  {
   "cell_type": "code",
   "execution_count": null,
   "metadata": {},
   "outputs": [],
   "source": []
  }
 ],
 "metadata": {
  "kernelspec": {
   "display_name": "env310finrobot",
   "language": "python",
   "name": "python3"
  },
  "language_info": {
   "codemirror_mode": {
    "name": "ipython",
    "version": 3
   },
   "file_extension": ".py",
   "mimetype": "text/x-python",
   "name": "python",
   "nbconvert_exporter": "python",
   "pygments_lexer": "ipython3",
   "version": "3.12.8"
  }
 },
 "nbformat": 4,
 "nbformat_minor": 2
}
